{
 "cells": [
  {
   "cell_type": "markdown",
   "id": "df7ae36f",
   "metadata": {},
   "source": [
    "# 1.线性回归"
   ]
  },
  {
   "cell_type": "code",
   "execution_count": 1,
   "id": "69b9c12d",
   "metadata": {},
   "outputs": [
    {
     "name": "stdout",
     "output_type": "stream",
     "text": [
      "<class 'pandas.core.frame.DataFrame'>\n",
      "RangeIndex: 2237 entries, 0 to 2236\n",
      "Data columns (total 19 columns):\n",
      " #   Column      Non-Null Count  Dtype\n",
      "---  ------      --------------  -----\n",
      " 0   senior      2237 non-null   int64\n",
      " 1   min_s_mon   2237 non-null   int64\n",
      " 2   max_s_mon   2237 non-null   int64\n",
      " 3   min_s_year  2237 non-null   int64\n",
      " 4   max_s_year  2237 non-null   int64\n",
      " 5   portion     2237 non-null   int64\n",
      " 6   s_salary    2237 non-null   int64\n",
      " 7   edu         2237 non-null   int64\n",
      " 8   min_exp     2237 non-null   int64\n",
      " 9   csize       2237 non-null   int64\n",
      " 10  stack       2237 non-null   int64\n",
      " 11  binsurance  2237 non-null   int64\n",
      " 12  minsurance  2237 non-null   int64\n",
      " 13  paleave     2237 non-null   int64\n",
      " 14  fpe         2237 non-null   int64\n",
      " 15  ebenefit    2237 non-null   int64\n",
      " 16  cclass      2237 non-null   int64\n",
      " 17  internet    2237 non-null   int64\n",
      " 18  jclass1     2237 non-null   int64\n",
      "dtypes: int64(19)\n",
      "memory usage: 332.2 KB\n"
     ]
    }
   ],
   "source": [
    "# 导入所需要的库\n",
    "import pandas as pd\n",
    "\n",
    "# 读取文件\n",
    "data = pd.read_csv('F:/学习库/大学学习/本科/大三上/机器学习与数据挖掘/期末项目/ffjdata.csv')\n",
    "\n",
    "# 检查特征的数据类型\n",
    "data.info()"
   ]
  },
  {
   "cell_type": "code",
   "execution_count": 2,
   "id": "cba8230e",
   "metadata": {},
   "outputs": [
    {
     "data": {
      "text/plain": [
       "Index(['senior', 'min_s_mon', 'max_s_mon', 'min_s_year', 'max_s_year',\n",
       "       'portion', 's_salary', 'edu', 'min_exp', 'csize', 'stack', 'binsurance',\n",
       "       'minsurance', 'paleave', 'fpe', 'ebenefit', 'cclass', 'internet',\n",
       "       'jclass1'],\n",
       "      dtype='object')"
      ]
     },
     "execution_count": 2,
     "metadata": {},
     "output_type": "execute_result"
    }
   ],
   "source": [
    "data.columns"
   ]
  },
  {
   "cell_type": "code",
   "execution_count": 3,
   "id": "fa52033a",
   "metadata": {},
   "outputs": [
    {
     "name": "stdout",
     "output_type": "stream",
     "text": [
      "   senior  min_s_mon  max_s_mon  min_s_year  max_s_year  portion  s_salary  \\\n",
      "0       1          4          6          48          72       12        56   \n",
      "1       1         15         25         195         325       13       240   \n",
      "2       1          5          7          65          91       13        74   \n",
      "3       1         10         13         120         156       12       132   \n",
      "4       1          9         14         117         182       13       139   \n",
      "\n",
      "   edu  min_exp  csize  stack  binsurance  minsurance  paleave  fpe  ebenefit  \\\n",
      "0    1        0      1      0           0           0        0    0         0   \n",
      "1    2        1      2      0           1           0        1    1         5   \n",
      "2    1        0      4      0           1           0        1    1         7   \n",
      "3    3        0      2      1           1           1        1    1         5   \n",
      "4    1        1      1      0           1           0        1    1         8   \n",
      "\n",
      "   cclass  internet  jclass1  \n",
      "0       1         1        6  \n",
      "1       1         0        2  \n",
      "2       4         1        5  \n",
      "3       2         1        6  \n",
      "4       1         1        3  \n",
      "      senior  min_s_mon  max_s_mon  min_s_year  max_s_year  portion  s_salary  \\\n",
      "2232       0         14         17         182         221       13       195   \n",
      "2233       1         10         15         130         195       13       152   \n",
      "2234       1         30         60         450         900       15       607   \n",
      "2235       1         15         30         195         390       13       263   \n",
      "2236       1         50         75         750        1125       15       881   \n",
      "\n",
      "      edu  min_exp  csize  stack  binsurance  minsurance  paleave  fpe  \\\n",
      "2232    1        3      4      0           1           0        1    1   \n",
      "2233    1        5      4      0           1           1        1    1   \n",
      "2234    3        0      4      1           1           1        1    1   \n",
      "2235    0        0      4      1           1           1        1    1   \n",
      "2236    3        5      4      1           1           1        1    1   \n",
      "\n",
      "      ebenefit  cclass  internet  jclass1  \n",
      "2232         6       2         1        8  \n",
      "2233        13       1         0        5  \n",
      "2234         4       1         0       10  \n",
      "2235         3       1         0       10  \n",
      "2236         4       1         0       10  \n",
      "(2237, 19)\n"
     ]
    }
   ],
   "source": [
    "print(data.head()) # 显示前5项数据\n",
    "print(data.tail()) # 显示最后5项数据\n",
    "print(data.shape)  # 查看DataFame的维度"
   ]
  },
  {
   "cell_type": "markdown",
   "id": "fd140382",
   "metadata": {},
   "source": [
    "# 2.数据预处理"
   ]
  },
  {
   "cell_type": "code",
   "execution_count": 4,
   "id": "9d229162",
   "metadata": {},
   "outputs": [],
   "source": [
    "# 不考虑min_s_mon、max_s_mon、min_s_year、max_s_year\n",
    "\n",
    "# 连续变量\n",
    "# ebenefit\n",
    "\n",
    "# 分类变量列表\n",
    "data['edu'] = data['edu'].apply(str)\n",
    "data['min_exp'] = data['min_exp'].apply(str)\n",
    "data['csize'] = data['csize'].apply(str)\n",
    "data['cclass']= data['cclass'].apply(str)\n",
    "data['jclass1'] = data['jclass1'].apply(str)\n",
    "\n",
    "# 虚拟变量列表\n",
    "data['senior'] = data['senior'].apply(str)\n",
    "data['stack'] = data['stack'].apply(str)\n",
    "data['binsurance'] = data['binsurance'].apply(str)\n",
    "data['minsurance'] = data['minsurance'].apply(str)\n",
    "data['paleave'] = data['paleave'].apply(str)\n",
    "data['fpe'] = data['fpe'].apply(str)\n",
    "data['internet'] = data['internet'].apply(str)\n",
    "data['jclass1'] = data['jclass1'].apply(str) # 对portion的处理"
   ]
  },
  {
   "cell_type": "code",
   "execution_count": 5,
   "id": "1f2df417",
   "metadata": {},
   "outputs": [],
   "source": [
    "# 删除缺失值\n",
    "data=data.dropna()"
   ]
  },
  {
   "cell_type": "code",
   "execution_count": 6,
   "id": "afa8607f",
   "metadata": {},
   "outputs": [
    {
     "data": {
      "text/html": [
       "<div>\n",
       "<style scoped>\n",
       "    .dataframe tbody tr th:only-of-type {\n",
       "        vertical-align: middle;\n",
       "    }\n",
       "\n",
       "    .dataframe tbody tr th {\n",
       "        vertical-align: top;\n",
       "    }\n",
       "\n",
       "    .dataframe thead th {\n",
       "        text-align: right;\n",
       "    }\n",
       "</style>\n",
       "<table border=\"1\" class=\"dataframe\">\n",
       "  <thead>\n",
       "    <tr style=\"text-align: right;\">\n",
       "      <th></th>\n",
       "      <th>min_s_mon</th>\n",
       "      <th>max_s_mon</th>\n",
       "      <th>min_s_year</th>\n",
       "      <th>max_s_year</th>\n",
       "      <th>portion</th>\n",
       "      <th>s_salary</th>\n",
       "      <th>ebenefit</th>\n",
       "    </tr>\n",
       "  </thead>\n",
       "  <tbody>\n",
       "    <tr>\n",
       "      <th>count</th>\n",
       "      <td>2237.000000</td>\n",
       "      <td>2237.000000</td>\n",
       "      <td>2237.000000</td>\n",
       "      <td>2237.000000</td>\n",
       "      <td>2237.000000</td>\n",
       "      <td>2237.000000</td>\n",
       "      <td>2237.000000</td>\n",
       "    </tr>\n",
       "    <tr>\n",
       "      <th>mean</th>\n",
       "      <td>10.811354</td>\n",
       "      <td>17.638802</td>\n",
       "      <td>143.554761</td>\n",
       "      <td>234.872150</td>\n",
       "      <td>12.973178</td>\n",
       "      <td>175.202056</td>\n",
       "      <td>4.578453</td>\n",
       "    </tr>\n",
       "    <tr>\n",
       "      <th>std</th>\n",
       "      <td>8.027858</td>\n",
       "      <td>13.602098</td>\n",
       "      <td>115.186833</td>\n",
       "      <td>196.622607</td>\n",
       "      <td>0.927225</td>\n",
       "      <td>142.425480</td>\n",
       "      <td>3.171843</td>\n",
       "    </tr>\n",
       "    <tr>\n",
       "      <th>min</th>\n",
       "      <td>1.000000</td>\n",
       "      <td>2.000000</td>\n",
       "      <td>12.000000</td>\n",
       "      <td>26.000000</td>\n",
       "      <td>12.000000</td>\n",
       "      <td>40.000000</td>\n",
       "      <td>0.000000</td>\n",
       "    </tr>\n",
       "    <tr>\n",
       "      <th>25%</th>\n",
       "      <td>5.000000</td>\n",
       "      <td>9.000000</td>\n",
       "      <td>65.000000</td>\n",
       "      <td>108.000000</td>\n",
       "      <td>12.000000</td>\n",
       "      <td>81.000000</td>\n",
       "      <td>2.000000</td>\n",
       "    </tr>\n",
       "    <tr>\n",
       "      <th>50%</th>\n",
       "      <td>9.000000</td>\n",
       "      <td>13.000000</td>\n",
       "      <td>117.000000</td>\n",
       "      <td>169.000000</td>\n",
       "      <td>13.000000</td>\n",
       "      <td>131.000000</td>\n",
       "      <td>5.000000</td>\n",
       "    </tr>\n",
       "    <tr>\n",
       "      <th>75%</th>\n",
       "      <td>14.000000</td>\n",
       "      <td>22.000000</td>\n",
       "      <td>180.000000</td>\n",
       "      <td>286.000000</td>\n",
       "      <td>13.000000</td>\n",
       "      <td>217.000000</td>\n",
       "      <td>7.000000</td>\n",
       "    </tr>\n",
       "    <tr>\n",
       "      <th>max</th>\n",
       "      <td>75.000000</td>\n",
       "      <td>100.000000</td>\n",
       "      <td>1125.000000</td>\n",
       "      <td>1600.000000</td>\n",
       "      <td>16.000000</td>\n",
       "      <td>1288.000000</td>\n",
       "      <td>16.000000</td>\n",
       "    </tr>\n",
       "  </tbody>\n",
       "</table>\n",
       "</div>"
      ],
      "text/plain": [
       "         min_s_mon    max_s_mon   min_s_year   max_s_year      portion  \\\n",
       "count  2237.000000  2237.000000  2237.000000  2237.000000  2237.000000   \n",
       "mean     10.811354    17.638802   143.554761   234.872150    12.973178   \n",
       "std       8.027858    13.602098   115.186833   196.622607     0.927225   \n",
       "min       1.000000     2.000000    12.000000    26.000000    12.000000   \n",
       "25%       5.000000     9.000000    65.000000   108.000000    12.000000   \n",
       "50%       9.000000    13.000000   117.000000   169.000000    13.000000   \n",
       "75%      14.000000    22.000000   180.000000   286.000000    13.000000   \n",
       "max      75.000000   100.000000  1125.000000  1600.000000    16.000000   \n",
       "\n",
       "          s_salary     ebenefit  \n",
       "count  2237.000000  2237.000000  \n",
       "mean    175.202056     4.578453  \n",
       "std     142.425480     3.171843  \n",
       "min      40.000000     0.000000  \n",
       "25%      81.000000     2.000000  \n",
       "50%     131.000000     5.000000  \n",
       "75%     217.000000     7.000000  \n",
       "max    1288.000000    16.000000  "
      ]
     },
     "execution_count": 6,
     "metadata": {},
     "output_type": "execute_result"
    }
   ],
   "source": [
    "data.describe()"
   ]
  },
  {
   "cell_type": "code",
   "execution_count": 7,
   "id": "c9a6218f",
   "metadata": {},
   "outputs": [
    {
     "data": {
      "text/html": [
       "<div>\n",
       "<style scoped>\n",
       "    .dataframe tbody tr th:only-of-type {\n",
       "        vertical-align: middle;\n",
       "    }\n",
       "\n",
       "    .dataframe tbody tr th {\n",
       "        vertical-align: top;\n",
       "    }\n",
       "\n",
       "    .dataframe thead th {\n",
       "        text-align: right;\n",
       "    }\n",
       "</style>\n",
       "<table border=\"1\" class=\"dataframe\">\n",
       "  <thead>\n",
       "    <tr style=\"text-align: right;\">\n",
       "      <th></th>\n",
       "      <th>senior</th>\n",
       "      <th>min_s_mon</th>\n",
       "      <th>max_s_mon</th>\n",
       "      <th>min_s_year</th>\n",
       "      <th>max_s_year</th>\n",
       "      <th>portion</th>\n",
       "      <th>s_salary</th>\n",
       "      <th>edu</th>\n",
       "      <th>min_exp</th>\n",
       "      <th>csize</th>\n",
       "      <th>stack</th>\n",
       "      <th>binsurance</th>\n",
       "      <th>minsurance</th>\n",
       "      <th>paleave</th>\n",
       "      <th>fpe</th>\n",
       "      <th>ebenefit</th>\n",
       "      <th>cclass</th>\n",
       "      <th>internet</th>\n",
       "      <th>jclass1</th>\n",
       "    </tr>\n",
       "  </thead>\n",
       "  <tbody>\n",
       "    <tr>\n",
       "      <th>0</th>\n",
       "      <td>1</td>\n",
       "      <td>4</td>\n",
       "      <td>6</td>\n",
       "      <td>48</td>\n",
       "      <td>72</td>\n",
       "      <td>12</td>\n",
       "      <td>56</td>\n",
       "      <td>1</td>\n",
       "      <td>0</td>\n",
       "      <td>1</td>\n",
       "      <td>0</td>\n",
       "      <td>0</td>\n",
       "      <td>0</td>\n",
       "      <td>0</td>\n",
       "      <td>0</td>\n",
       "      <td>0</td>\n",
       "      <td>1</td>\n",
       "      <td>1</td>\n",
       "      <td>6</td>\n",
       "    </tr>\n",
       "    <tr>\n",
       "      <th>1</th>\n",
       "      <td>1</td>\n",
       "      <td>15</td>\n",
       "      <td>25</td>\n",
       "      <td>195</td>\n",
       "      <td>325</td>\n",
       "      <td>13</td>\n",
       "      <td>240</td>\n",
       "      <td>2</td>\n",
       "      <td>1</td>\n",
       "      <td>2</td>\n",
       "      <td>0</td>\n",
       "      <td>1</td>\n",
       "      <td>0</td>\n",
       "      <td>1</td>\n",
       "      <td>1</td>\n",
       "      <td>5</td>\n",
       "      <td>1</td>\n",
       "      <td>0</td>\n",
       "      <td>2</td>\n",
       "    </tr>\n",
       "    <tr>\n",
       "      <th>2</th>\n",
       "      <td>1</td>\n",
       "      <td>5</td>\n",
       "      <td>7</td>\n",
       "      <td>65</td>\n",
       "      <td>91</td>\n",
       "      <td>13</td>\n",
       "      <td>74</td>\n",
       "      <td>1</td>\n",
       "      <td>0</td>\n",
       "      <td>4</td>\n",
       "      <td>0</td>\n",
       "      <td>1</td>\n",
       "      <td>0</td>\n",
       "      <td>1</td>\n",
       "      <td>1</td>\n",
       "      <td>7</td>\n",
       "      <td>4</td>\n",
       "      <td>1</td>\n",
       "      <td>5</td>\n",
       "    </tr>\n",
       "    <tr>\n",
       "      <th>3</th>\n",
       "      <td>1</td>\n",
       "      <td>10</td>\n",
       "      <td>13</td>\n",
       "      <td>120</td>\n",
       "      <td>156</td>\n",
       "      <td>12</td>\n",
       "      <td>132</td>\n",
       "      <td>3</td>\n",
       "      <td>0</td>\n",
       "      <td>2</td>\n",
       "      <td>1</td>\n",
       "      <td>1</td>\n",
       "      <td>1</td>\n",
       "      <td>1</td>\n",
       "      <td>1</td>\n",
       "      <td>5</td>\n",
       "      <td>2</td>\n",
       "      <td>1</td>\n",
       "      <td>6</td>\n",
       "    </tr>\n",
       "    <tr>\n",
       "      <th>4</th>\n",
       "      <td>1</td>\n",
       "      <td>9</td>\n",
       "      <td>14</td>\n",
       "      <td>117</td>\n",
       "      <td>182</td>\n",
       "      <td>13</td>\n",
       "      <td>139</td>\n",
       "      <td>1</td>\n",
       "      <td>1</td>\n",
       "      <td>1</td>\n",
       "      <td>0</td>\n",
       "      <td>1</td>\n",
       "      <td>0</td>\n",
       "      <td>1</td>\n",
       "      <td>1</td>\n",
       "      <td>8</td>\n",
       "      <td>1</td>\n",
       "      <td>1</td>\n",
       "      <td>3</td>\n",
       "    </tr>\n",
       "  </tbody>\n",
       "</table>\n",
       "</div>"
      ],
      "text/plain": [
       "  senior  min_s_mon  max_s_mon  min_s_year  max_s_year  portion  s_salary edu  \\\n",
       "0      1          4          6          48          72       12        56   1   \n",
       "1      1         15         25         195         325       13       240   2   \n",
       "2      1          5          7          65          91       13        74   1   \n",
       "3      1         10         13         120         156       12       132   3   \n",
       "4      1          9         14         117         182       13       139   1   \n",
       "\n",
       "  min_exp csize stack binsurance minsurance paleave fpe  ebenefit cclass  \\\n",
       "0       0     1     0          0          0       0   0         0      1   \n",
       "1       1     2     0          1          0       1   1         5      1   \n",
       "2       0     4     0          1          0       1   1         7      4   \n",
       "3       0     2     1          1          1       1   1         5      2   \n",
       "4       1     1     0          1          0       1   1         8      1   \n",
       "\n",
       "  internet jclass1  \n",
       "0        1       6  \n",
       "1        0       2  \n",
       "2        1       5  \n",
       "3        1       6  \n",
       "4        1       3  "
      ]
     },
     "execution_count": 7,
     "metadata": {},
     "output_type": "execute_result"
    }
   ],
   "source": [
    "data.head()"
   ]
  },
  {
   "cell_type": "markdown",
   "id": "36f5e714",
   "metadata": {},
   "source": [
    "# 3. 探索性分析"
   ]
  },
  {
   "cell_type": "code",
   "execution_count": 8,
   "id": "746fa708",
   "metadata": {},
   "outputs": [
    {
     "data": {
      "image/png": "[encoded data removed]",
      "text/plain": [
       "<Figure size 5241.6x504 with 13 Axes>"
      ]
     },
     "metadata": {
      "needs_background": "light"
     },
     "output_type": "display_data"
    }
   ],
   "source": [
    "import seaborn as sns\n",
    "import matplotlib.pyplot as plt\n",
    "\n",
    "# visualize the relationship between the features and the response using scatterplots\n",
    "sns.pairplot(data, x_vars=['senior','edu','min_exp','csize','stack','binsurance','minsurance','paleave','fpe','ebenefit','cclass','internet','jclass1'], y_vars='s_salary', height = 7, aspect=0.8, kind='hist') \n",
    "\n",
    "#x_vars x轴要画的13个特征，y_vars y轴要画的，height高，aspect比例，kind类别。\n",
    "plt.show()"
   ]
  },
  {
   "cell_type": "code",
   "execution_count": 9,
   "id": "eeb54072",
   "metadata": {},
   "outputs": [
    {
     "data": {
      "image/png": "[encoded data removed]",
      "text/plain": [
       "<Figure size 5241.6x504 with 13 Axes>"
      ]
     },
     "metadata": {
      "needs_background": "light"
     },
     "output_type": "display_data"
    }
   ],
   "source": [
    "import seaborn as sns\n",
    "import matplotlib.pyplot as plt\n",
    "\n",
    "# visualize the relationship between the features and the response using scatterplots\n",
    "sns.pairplot(data, x_vars=['senior','edu','min_exp','csize','stack','binsurance','minsurance','paleave','fpe','ebenefit','cclass','internet','jclass1'], y_vars='s_salary', height = 7, aspect=0.8, kind='scatter') \n",
    "\n",
    "#x_vars x轴要画的13个特征，y_vars y轴要画的，height高，aspect比例，kind类别。\n",
    "plt.show()"
   ]
  },
  {
   "cell_type": "markdown",
   "id": "91c16d80",
   "metadata": {},
   "source": [
    "# 4. 模型"
   ]
  },
  {
   "cell_type": "markdown",
   "id": "9f6a6495",
   "metadata": {},
   "source": [
    "## 构建X： 选取13个特征"
   ]
  },
  {
   "cell_type": "code",
   "execution_count": 10,
   "id": "6fbd0b83",
   "metadata": {},
   "outputs": [],
   "source": [
    "# 对特征\n",
    "features = ['senior','edu','min_exp','csize','stack','binsurance','minsurance','paleave','fpe','ebenefit','cclass','internet','jclass1']\n",
    "\n",
    "# 提取特征列\n",
    "X = data[features]\n",
    "\n",
    "# 处理分类变量，转换成虚拟变量\n",
    "X = pd.get_dummies(X, columns=features, drop_first = True)"
   ]
  },
  {
   "cell_type": "code",
   "execution_count": 11,
   "id": "8df77696",
   "metadata": {},
   "outputs": [
    {
     "name": "stdout",
     "output_type": "stream",
     "text": [
      "   senior_1  edu_1  edu_2  edu_3  min_exp_1  min_exp_3  min_exp_5  csize_2  \\\n",
      "0         1      1      0      0          0          0          0        0   \n",
      "1         1      0      1      0          1          0          0        1   \n",
      "2         1      1      0      0          0          0          0        0   \n",
      "3         1      0      0      1          0          0          0        1   \n",
      "4         1      1      0      0          1          0          0        0   \n",
      "\n",
      "   csize_3  csize_4  ...  internet_1  jclass1_10  jclass1_2  jclass1_3  \\\n",
      "0        0        0  ...           1           0          0          0   \n",
      "1        0        0  ...           0           0          1          0   \n",
      "2        0        1  ...           1           0          0          0   \n",
      "3        0        0  ...           1           0          0          0   \n",
      "4        0        0  ...           1           0          0          1   \n",
      "\n",
      "   jclass1_4  jclass1_5  jclass1_6  jclass1_7  jclass1_8  jclass1_9  \n",
      "0          0          0          1          0          0          0  \n",
      "1          0          0          0          0          0          0  \n",
      "2          0          1          0          0          0          0  \n",
      "3          0          0          1          0          0          0  \n",
      "4          0          0          0          0          0          0  \n",
      "\n",
      "[5 rows x 44 columns]\n",
      "<class 'pandas.core.frame.DataFrame'>\n",
      "(2237, 44)\n"
     ]
    }
   ],
   "source": [
    "print(X.head()) # 输出前五项数据\n",
    "print(type(X)) # X的类型\n",
    "print(X.shape) # X的维数"
   ]
  },
  {
   "cell_type": "code",
   "execution_count": 12,
   "id": "9eb3e047",
   "metadata": {},
   "outputs": [
    {
     "data": {
      "text/plain": [
       "Index(['senior_1', 'edu_1', 'edu_2', 'edu_3', 'min_exp_1', 'min_exp_3',\n",
       "       'min_exp_5', 'csize_2', 'csize_3', 'csize_4', 'stack_1', 'binsurance_1',\n",
       "       'minsurance_1', 'paleave_1', 'fpe_1', 'ebenefit_1', 'ebenefit_2',\n",
       "       'ebenefit_3', 'ebenefit_4', 'ebenefit_5', 'ebenefit_6', 'ebenefit_7',\n",
       "       'ebenefit_8', 'ebenefit_9', 'ebenefit_10', 'ebenefit_11', 'ebenefit_12',\n",
       "       'ebenefit_13', 'ebenefit_14', 'ebenefit_15', 'ebenefit_16', 'cclass_2',\n",
       "       'cclass_3', 'cclass_4', 'internet_1', 'jclass1_10', 'jclass1_2',\n",
       "       'jclass1_3', 'jclass1_4', 'jclass1_5', 'jclass1_6', 'jclass1_7',\n",
       "       'jclass1_8', 'jclass1_9'],\n",
       "      dtype='object')"
      ]
     },
     "execution_count": 12,
     "metadata": {},
     "output_type": "execute_result"
    }
   ],
   "source": [
    "X.columns ## 索引：特征名\n",
    "#X里面有哪些列，可通过colums查看。"
   ]
  },
  {
   "cell_type": "markdown",
   "id": "cb9c90bf",
   "metadata": {},
   "source": [
    "## 构建y: 选取s_salary作为输出变量"
   ]
  },
  {
   "cell_type": "code",
   "execution_count": 13,
   "id": "5b694965",
   "metadata": {},
   "outputs": [],
   "source": [
    "# 导入所需要的库\n",
    "import numpy as np"
   ]
  },
  {
   "cell_type": "code",
   "execution_count": 14,
   "id": "55cb2ec3",
   "metadata": {},
   "outputs": [],
   "source": [
    "# 对y\n",
    "data['s_salary_log'] = data['s_salary'].apply(np.log)\n",
    "y = data['s_salary_log']# 设置y值，把工资作为连续变量取对数作为y值"
   ]
  },
  {
   "cell_type": "code",
   "execution_count": 15,
   "id": "18572edb",
   "metadata": {},
   "outputs": [
    {
     "name": "stdout",
     "output_type": "stream",
     "text": [
      "0    4.025352\n",
      "1    5.480639\n",
      "2    4.304065\n",
      "3    4.882802\n",
      "4    4.934474\n",
      "Name: s_salary_log, dtype: float64\n",
      "<class 'pandas.core.series.Series'>\n",
      "(2237,)\n"
     ]
    }
   ],
   "source": [
    "# 输出前五项数据\n",
    "print(y.head())\n",
    "\n",
    "print(type(y))\n",
    "print(y.shape)"
   ]
  },
  {
   "cell_type": "markdown",
   "id": "d0db9887",
   "metadata": {},
   "source": [
    "## 构建训练集和测试集"
   ]
  },
  {
   "cell_type": "code",
   "execution_count": 16,
   "id": "7f61cdad",
   "metadata": {},
   "outputs": [],
   "source": [
    "from sklearn.model_selection import train_test_split # 随机生成训练集和测试集\n",
    "\n",
    "# 80% 用于训练， 20%用于测试\n",
    "X_train, X_test, y_train, y_test = train_test_split(X, y, test_size = 0.2, random_state=0) "
   ]
  },
  {
   "cell_type": "code",
   "execution_count": 17,
   "id": "b2d0bf23",
   "metadata": {},
   "outputs": [
    {
     "data": {
      "text/html": [
       "<div>\n",
       "<style scoped>\n",
       "    .dataframe tbody tr th:only-of-type {\n",
       "        vertical-align: middle;\n",
       "    }\n",
       "\n",
       "    .dataframe tbody tr th {\n",
       "        vertical-align: top;\n",
       "    }\n",
       "\n",
       "    .dataframe thead th {\n",
       "        text-align: right;\n",
       "    }\n",
       "</style>\n",
       "<table border=\"1\" class=\"dataframe\">\n",
       "  <thead>\n",
       "    <tr style=\"text-align: right;\">\n",
       "      <th></th>\n",
       "      <th>senior_1</th>\n",
       "      <th>edu_1</th>\n",
       "      <th>edu_2</th>\n",
       "      <th>edu_3</th>\n",
       "      <th>min_exp_1</th>\n",
       "      <th>min_exp_3</th>\n",
       "      <th>min_exp_5</th>\n",
       "      <th>csize_2</th>\n",
       "      <th>csize_3</th>\n",
       "      <th>csize_4</th>\n",
       "      <th>...</th>\n",
       "      <th>internet_1</th>\n",
       "      <th>jclass1_10</th>\n",
       "      <th>jclass1_2</th>\n",
       "      <th>jclass1_3</th>\n",
       "      <th>jclass1_4</th>\n",
       "      <th>jclass1_5</th>\n",
       "      <th>jclass1_6</th>\n",
       "      <th>jclass1_7</th>\n",
       "      <th>jclass1_8</th>\n",
       "      <th>jclass1_9</th>\n",
       "    </tr>\n",
       "  </thead>\n",
       "  <tbody>\n",
       "    <tr>\n",
       "      <th>287</th>\n",
       "      <td>0</td>\n",
       "      <td>1</td>\n",
       "      <td>0</td>\n",
       "      <td>0</td>\n",
       "      <td>0</td>\n",
       "      <td>0</td>\n",
       "      <td>0</td>\n",
       "      <td>0</td>\n",
       "      <td>0</td>\n",
       "      <td>0</td>\n",
       "      <td>...</td>\n",
       "      <td>0</td>\n",
       "      <td>0</td>\n",
       "      <td>0</td>\n",
       "      <td>0</td>\n",
       "      <td>0</td>\n",
       "      <td>0</td>\n",
       "      <td>0</td>\n",
       "      <td>0</td>\n",
       "      <td>0</td>\n",
       "      <td>1</td>\n",
       "    </tr>\n",
       "    <tr>\n",
       "      <th>1855</th>\n",
       "      <td>0</td>\n",
       "      <td>0</td>\n",
       "      <td>1</td>\n",
       "      <td>0</td>\n",
       "      <td>1</td>\n",
       "      <td>0</td>\n",
       "      <td>0</td>\n",
       "      <td>0</td>\n",
       "      <td>0</td>\n",
       "      <td>0</td>\n",
       "      <td>...</td>\n",
       "      <td>1</td>\n",
       "      <td>0</td>\n",
       "      <td>0</td>\n",
       "      <td>0</td>\n",
       "      <td>0</td>\n",
       "      <td>0</td>\n",
       "      <td>1</td>\n",
       "      <td>0</td>\n",
       "      <td>0</td>\n",
       "      <td>0</td>\n",
       "    </tr>\n",
       "    <tr>\n",
       "      <th>1946</th>\n",
       "      <td>1</td>\n",
       "      <td>0</td>\n",
       "      <td>0</td>\n",
       "      <td>1</td>\n",
       "      <td>0</td>\n",
       "      <td>0</td>\n",
       "      <td>1</td>\n",
       "      <td>0</td>\n",
       "      <td>0</td>\n",
       "      <td>1</td>\n",
       "      <td>...</td>\n",
       "      <td>1</td>\n",
       "      <td>1</td>\n",
       "      <td>0</td>\n",
       "      <td>0</td>\n",
       "      <td>0</td>\n",
       "      <td>0</td>\n",
       "      <td>0</td>\n",
       "      <td>0</td>\n",
       "      <td>0</td>\n",
       "      <td>0</td>\n",
       "    </tr>\n",
       "    <tr>\n",
       "      <th>2057</th>\n",
       "      <td>0</td>\n",
       "      <td>0</td>\n",
       "      <td>1</td>\n",
       "      <td>0</td>\n",
       "      <td>0</td>\n",
       "      <td>0</td>\n",
       "      <td>0</td>\n",
       "      <td>1</td>\n",
       "      <td>0</td>\n",
       "      <td>0</td>\n",
       "      <td>...</td>\n",
       "      <td>0</td>\n",
       "      <td>0</td>\n",
       "      <td>0</td>\n",
       "      <td>0</td>\n",
       "      <td>0</td>\n",
       "      <td>1</td>\n",
       "      <td>0</td>\n",
       "      <td>0</td>\n",
       "      <td>0</td>\n",
       "      <td>0</td>\n",
       "    </tr>\n",
       "    <tr>\n",
       "      <th>438</th>\n",
       "      <td>1</td>\n",
       "      <td>1</td>\n",
       "      <td>0</td>\n",
       "      <td>0</td>\n",
       "      <td>0</td>\n",
       "      <td>1</td>\n",
       "      <td>0</td>\n",
       "      <td>1</td>\n",
       "      <td>0</td>\n",
       "      <td>0</td>\n",
       "      <td>...</td>\n",
       "      <td>1</td>\n",
       "      <td>0</td>\n",
       "      <td>0</td>\n",
       "      <td>0</td>\n",
       "      <td>1</td>\n",
       "      <td>0</td>\n",
       "      <td>0</td>\n",
       "      <td>0</td>\n",
       "      <td>0</td>\n",
       "      <td>0</td>\n",
       "    </tr>\n",
       "  </tbody>\n",
       "</table>\n",
       "<p>5 rows × 44 columns</p>\n",
       "</div>"
      ],
      "text/plain": [
       "      senior_1  edu_1  edu_2  edu_3  min_exp_1  min_exp_3  min_exp_5  csize_2  \\\n",
       "287          0      1      0      0          0          0          0        0   \n",
       "1855         0      0      1      0          1          0          0        0   \n",
       "1946         1      0      0      1          0          0          1        0   \n",
       "2057         0      0      1      0          0          0          0        1   \n",
       "438          1      1      0      0          0          1          0        1   \n",
       "\n",
       "      csize_3  csize_4  ...  internet_1  jclass1_10  jclass1_2  jclass1_3  \\\n",
       "287         0        0  ...           0           0          0          0   \n",
       "1855        0        0  ...           1           0          0          0   \n",
       "1946        0        1  ...           1           1          0          0   \n",
       "2057        0        0  ...           0           0          0          0   \n",
       "438         0        0  ...           1           0          0          0   \n",
       "\n",
       "      jclass1_4  jclass1_5  jclass1_6  jclass1_7  jclass1_8  jclass1_9  \n",
       "287           0          0          0          0          0          1  \n",
       "1855          0          0          1          0          0          0  \n",
       "1946          0          0          0          0          0          0  \n",
       "2057          0          1          0          0          0          0  \n",
       "438           1          0          0          0          0          0  \n",
       "\n",
       "[5 rows x 44 columns]"
      ]
     },
     "execution_count": 17,
     "metadata": {},
     "output_type": "execute_result"
    }
   ],
   "source": [
    "X_train.head()"
   ]
  },
  {
   "cell_type": "code",
   "execution_count": 18,
   "id": "c7ea32de",
   "metadata": {},
   "outputs": [
    {
     "data": {
      "text/html": [
       "<div>\n",
       "<style scoped>\n",
       "    .dataframe tbody tr th:only-of-type {\n",
       "        vertical-align: middle;\n",
       "    }\n",
       "\n",
       "    .dataframe tbody tr th {\n",
       "        vertical-align: top;\n",
       "    }\n",
       "\n",
       "    .dataframe thead th {\n",
       "        text-align: right;\n",
       "    }\n",
       "</style>\n",
       "<table border=\"1\" class=\"dataframe\">\n",
       "  <thead>\n",
       "    <tr style=\"text-align: right;\">\n",
       "      <th></th>\n",
       "      <th>senior_1</th>\n",
       "      <th>edu_1</th>\n",
       "      <th>edu_2</th>\n",
       "      <th>edu_3</th>\n",
       "      <th>min_exp_1</th>\n",
       "      <th>min_exp_3</th>\n",
       "      <th>min_exp_5</th>\n",
       "      <th>csize_2</th>\n",
       "      <th>csize_3</th>\n",
       "      <th>csize_4</th>\n",
       "      <th>...</th>\n",
       "      <th>internet_1</th>\n",
       "      <th>jclass1_10</th>\n",
       "      <th>jclass1_2</th>\n",
       "      <th>jclass1_3</th>\n",
       "      <th>jclass1_4</th>\n",
       "      <th>jclass1_5</th>\n",
       "      <th>jclass1_6</th>\n",
       "      <th>jclass1_7</th>\n",
       "      <th>jclass1_8</th>\n",
       "      <th>jclass1_9</th>\n",
       "    </tr>\n",
       "  </thead>\n",
       "  <tbody>\n",
       "    <tr>\n",
       "      <th>135</th>\n",
       "      <td>0</td>\n",
       "      <td>1</td>\n",
       "      <td>0</td>\n",
       "      <td>0</td>\n",
       "      <td>0</td>\n",
       "      <td>0</td>\n",
       "      <td>0</td>\n",
       "      <td>0</td>\n",
       "      <td>0</td>\n",
       "      <td>0</td>\n",
       "      <td>...</td>\n",
       "      <td>1</td>\n",
       "      <td>0</td>\n",
       "      <td>0</td>\n",
       "      <td>0</td>\n",
       "      <td>0</td>\n",
       "      <td>0</td>\n",
       "      <td>0</td>\n",
       "      <td>0</td>\n",
       "      <td>0</td>\n",
       "      <td>1</td>\n",
       "    </tr>\n",
       "    <tr>\n",
       "      <th>688</th>\n",
       "      <td>1</td>\n",
       "      <td>0</td>\n",
       "      <td>0</td>\n",
       "      <td>1</td>\n",
       "      <td>0</td>\n",
       "      <td>0</td>\n",
       "      <td>0</td>\n",
       "      <td>1</td>\n",
       "      <td>0</td>\n",
       "      <td>0</td>\n",
       "      <td>...</td>\n",
       "      <td>1</td>\n",
       "      <td>0</td>\n",
       "      <td>0</td>\n",
       "      <td>0</td>\n",
       "      <td>0</td>\n",
       "      <td>0</td>\n",
       "      <td>0</td>\n",
       "      <td>1</td>\n",
       "      <td>0</td>\n",
       "      <td>0</td>\n",
       "    </tr>\n",
       "    <tr>\n",
       "      <th>39</th>\n",
       "      <td>1</td>\n",
       "      <td>0</td>\n",
       "      <td>0</td>\n",
       "      <td>0</td>\n",
       "      <td>0</td>\n",
       "      <td>0</td>\n",
       "      <td>0</td>\n",
       "      <td>0</td>\n",
       "      <td>0</td>\n",
       "      <td>0</td>\n",
       "      <td>...</td>\n",
       "      <td>0</td>\n",
       "      <td>0</td>\n",
       "      <td>0</td>\n",
       "      <td>0</td>\n",
       "      <td>0</td>\n",
       "      <td>0</td>\n",
       "      <td>0</td>\n",
       "      <td>0</td>\n",
       "      <td>0</td>\n",
       "      <td>0</td>\n",
       "    </tr>\n",
       "    <tr>\n",
       "      <th>1708</th>\n",
       "      <td>0</td>\n",
       "      <td>1</td>\n",
       "      <td>0</td>\n",
       "      <td>0</td>\n",
       "      <td>1</td>\n",
       "      <td>0</td>\n",
       "      <td>0</td>\n",
       "      <td>0</td>\n",
       "      <td>0</td>\n",
       "      <td>0</td>\n",
       "      <td>...</td>\n",
       "      <td>1</td>\n",
       "      <td>0</td>\n",
       "      <td>1</td>\n",
       "      <td>0</td>\n",
       "      <td>0</td>\n",
       "      <td>0</td>\n",
       "      <td>0</td>\n",
       "      <td>0</td>\n",
       "      <td>0</td>\n",
       "      <td>0</td>\n",
       "    </tr>\n",
       "    <tr>\n",
       "      <th>2131</th>\n",
       "      <td>1</td>\n",
       "      <td>1</td>\n",
       "      <td>0</td>\n",
       "      <td>0</td>\n",
       "      <td>1</td>\n",
       "      <td>0</td>\n",
       "      <td>0</td>\n",
       "      <td>0</td>\n",
       "      <td>1</td>\n",
       "      <td>0</td>\n",
       "      <td>...</td>\n",
       "      <td>1</td>\n",
       "      <td>0</td>\n",
       "      <td>0</td>\n",
       "      <td>0</td>\n",
       "      <td>0</td>\n",
       "      <td>1</td>\n",
       "      <td>0</td>\n",
       "      <td>0</td>\n",
       "      <td>0</td>\n",
       "      <td>0</td>\n",
       "    </tr>\n",
       "  </tbody>\n",
       "</table>\n",
       "<p>5 rows × 44 columns</p>\n",
       "</div>"
      ],
      "text/plain": [
       "      senior_1  edu_1  edu_2  edu_3  min_exp_1  min_exp_3  min_exp_5  csize_2  \\\n",
       "135          0      1      0      0          0          0          0        0   \n",
       "688          1      0      0      1          0          0          0        1   \n",
       "39           1      0      0      0          0          0          0        0   \n",
       "1708         0      1      0      0          1          0          0        0   \n",
       "2131         1      1      0      0          1          0          0        0   \n",
       "\n",
       "      csize_3  csize_4  ...  internet_1  jclass1_10  jclass1_2  jclass1_3  \\\n",
       "135         0        0  ...           1           0          0          0   \n",
       "688         0        0  ...           1           0          0          0   \n",
       "39          0        0  ...           0           0          0          0   \n",
       "1708        0        0  ...           1           0          1          0   \n",
       "2131        1        0  ...           1           0          0          0   \n",
       "\n",
       "      jclass1_4  jclass1_5  jclass1_6  jclass1_7  jclass1_8  jclass1_9  \n",
       "135           0          0          0          0          0          1  \n",
       "688           0          0          0          1          0          0  \n",
       "39            0          0          0          0          0          0  \n",
       "1708          0          0          0          0          0          0  \n",
       "2131          0          1          0          0          0          0  \n",
       "\n",
       "[5 rows x 44 columns]"
      ]
     },
     "execution_count": 18,
     "metadata": {},
     "output_type": "execute_result"
    }
   ],
   "source": [
    "X_test.head()"
   ]
  },
  {
   "cell_type": "code",
   "execution_count": 19,
   "id": "fa9ccdcb",
   "metadata": {},
   "outputs": [
    {
     "data": {
      "text/plain": [
       "287     4.110874\n",
       "1855    4.276666\n",
       "1946    6.361302\n",
       "2057    4.477337\n",
       "438     5.209486\n",
       "Name: s_salary_log, dtype: float64"
      ]
     },
     "execution_count": 19,
     "metadata": {},
     "output_type": "execute_result"
    }
   ],
   "source": [
    "y_train.head()"
   ]
  },
  {
   "cell_type": "code",
   "execution_count": 20,
   "id": "5d2b8096",
   "metadata": {},
   "outputs": [
    {
     "data": {
      "text/plain": [
       "135     3.951244\n",
       "688     5.170484\n",
       "39      3.688879\n",
       "1708    4.948760\n",
       "2131    4.477337\n",
       "Name: s_salary_log, dtype: float64"
      ]
     },
     "execution_count": 20,
     "metadata": {},
     "output_type": "execute_result"
    }
   ],
   "source": [
    "y_test.head()"
   ]
  },
  {
   "cell_type": "markdown",
   "id": "73f0d01c",
   "metadata": {},
   "source": [
    "## 进行线性回归"
   ]
  },
  {
   "cell_type": "code",
   "execution_count": 21,
   "id": "10a6a11f",
   "metadata": {},
   "outputs": [],
   "source": [
    "from sklearn.linear_model import LinearRegression"
   ]
  },
  {
   "cell_type": "markdown",
   "id": "e6787126",
   "metadata": {},
   "source": [
    "### step 1: 定义线性回归模型"
   ]
  },
  {
   "cell_type": "code",
   "execution_count": 22,
   "id": "4b96a341",
   "metadata": {},
   "outputs": [],
   "source": [
    "linreg = LinearRegression() ## 使用默认参数设置"
   ]
  },
  {
   "cell_type": "markdown",
   "id": "6225906a",
   "metadata": {},
   "source": [
    "### step 2: 在训练集上训练（拟合fit）线性回归模型"
   ]
  },
  {
   "cell_type": "code",
   "execution_count": 23,
   "id": "5c045543",
   "metadata": {},
   "outputs": [
    {
     "data": {
      "text/plain": [
       "LinearRegression()"
      ]
     },
     "execution_count": 23,
     "metadata": {},
     "output_type": "execute_result"
    }
   ],
   "source": [
    "linreg.fit(X_train, y_train)"
   ]
  },
  {
   "cell_type": "markdown",
   "id": "604332d5",
   "metadata": {},
   "source": [
    "### step 3: 查看在训练集上估计的线性回归参数"
   ]
  },
  {
   "cell_type": "code",
   "execution_count": 24,
   "id": "38a0c531",
   "metadata": {},
   "outputs": [
    {
     "name": "stdout",
     "output_type": "stream",
     "text": [
      "4.648112320046265\n",
      "[ 0.13918958 -0.06149249  0.12509163  0.43485336  0.04011452  0.32901764\n",
      "  0.57724991  0.09034976  0.20839025  0.32144929  0.14484335  0.0940527\n",
      "  0.05847064  0.00343401  0.04466098 -0.08919927 -0.08321442 -0.0240391\n",
      " -0.03569704 -0.08681386 -0.05860019 -0.03601848 -0.05568804 -0.01832198\n",
      " -0.08548511  0.02899573  0.0804987  -0.10025369 -0.038558    0.16613446\n",
      " -0.38020552 -0.2658701  -0.42776671 -0.65140487  0.06817112 -0.14939939\n",
      " -0.04367843 -0.01309372 -0.04530891 -0.33888809  0.11795344  0.02502129\n",
      " -0.34462867 -0.02491206]\n"
     ]
    }
   ],
   "source": [
    "print (linreg.intercept_) #下划线是必须的。\n",
    "print (linreg.coef_)"
   ]
  },
  {
   "cell_type": "markdown",
   "id": "adff9606",
   "metadata": {},
   "source": [
    "#### 将特征名称与参数相对应: 利用pandas的DataFrame"
   ]
  },
  {
   "cell_type": "markdown",
   "id": "5100483e",
   "metadata": {},
   "source": [
    "pandas.DataFrame(data=None, index=None, columns=None, dtype=None, copy=None)"
   ]
  },
  {
   "cell_type": "code",
   "execution_count": 25,
   "id": "39e8e8a6",
   "metadata": {},
   "outputs": [
    {
     "data": {
      "text/html": [
       "<div>\n",
       "<style scoped>\n",
       "    .dataframe tbody tr th:only-of-type {\n",
       "        vertical-align: middle;\n",
       "    }\n",
       "\n",
       "    .dataframe tbody tr th {\n",
       "        vertical-align: top;\n",
       "    }\n",
       "\n",
       "    .dataframe thead th {\n",
       "        text-align: right;\n",
       "    }\n",
       "</style>\n",
       "<table border=\"1\" class=\"dataframe\">\n",
       "  <thead>\n",
       "    <tr style=\"text-align: right;\">\n",
       "      <th></th>\n",
       "      <th>coef</th>\n",
       "    </tr>\n",
       "  </thead>\n",
       "  <tbody>\n",
       "    <tr>\n",
       "      <th>senior_1</th>\n",
       "      <td>0.139190</td>\n",
       "    </tr>\n",
       "    <tr>\n",
       "      <th>edu_1</th>\n",
       "      <td>-0.061492</td>\n",
       "    </tr>\n",
       "    <tr>\n",
       "      <th>edu_2</th>\n",
       "      <td>0.125092</td>\n",
       "    </tr>\n",
       "    <tr>\n",
       "      <th>edu_3</th>\n",
       "      <td>0.434853</td>\n",
       "    </tr>\n",
       "    <tr>\n",
       "      <th>min_exp_1</th>\n",
       "      <td>0.040115</td>\n",
       "    </tr>\n",
       "    <tr>\n",
       "      <th>min_exp_3</th>\n",
       "      <td>0.329018</td>\n",
       "    </tr>\n",
       "    <tr>\n",
       "      <th>min_exp_5</th>\n",
       "      <td>0.577250</td>\n",
       "    </tr>\n",
       "    <tr>\n",
       "      <th>csize_2</th>\n",
       "      <td>0.090350</td>\n",
       "    </tr>\n",
       "    <tr>\n",
       "      <th>csize_3</th>\n",
       "      <td>0.208390</td>\n",
       "    </tr>\n",
       "    <tr>\n",
       "      <th>csize_4</th>\n",
       "      <td>0.321449</td>\n",
       "    </tr>\n",
       "    <tr>\n",
       "      <th>stack_1</th>\n",
       "      <td>0.144843</td>\n",
       "    </tr>\n",
       "    <tr>\n",
       "      <th>binsurance_1</th>\n",
       "      <td>0.094053</td>\n",
       "    </tr>\n",
       "    <tr>\n",
       "      <th>minsurance_1</th>\n",
       "      <td>0.058471</td>\n",
       "    </tr>\n",
       "    <tr>\n",
       "      <th>paleave_1</th>\n",
       "      <td>0.003434</td>\n",
       "    </tr>\n",
       "    <tr>\n",
       "      <th>fpe_1</th>\n",
       "      <td>0.044661</td>\n",
       "    </tr>\n",
       "    <tr>\n",
       "      <th>ebenefit_1</th>\n",
       "      <td>-0.089199</td>\n",
       "    </tr>\n",
       "    <tr>\n",
       "      <th>ebenefit_2</th>\n",
       "      <td>-0.083214</td>\n",
       "    </tr>\n",
       "    <tr>\n",
       "      <th>ebenefit_3</th>\n",
       "      <td>-0.024039</td>\n",
       "    </tr>\n",
       "    <tr>\n",
       "      <th>ebenefit_4</th>\n",
       "      <td>-0.035697</td>\n",
       "    </tr>\n",
       "    <tr>\n",
       "      <th>ebenefit_5</th>\n",
       "      <td>-0.086814</td>\n",
       "    </tr>\n",
       "    <tr>\n",
       "      <th>ebenefit_6</th>\n",
       "      <td>-0.058600</td>\n",
       "    </tr>\n",
       "    <tr>\n",
       "      <th>ebenefit_7</th>\n",
       "      <td>-0.036018</td>\n",
       "    </tr>\n",
       "    <tr>\n",
       "      <th>ebenefit_8</th>\n",
       "      <td>-0.055688</td>\n",
       "    </tr>\n",
       "    <tr>\n",
       "      <th>ebenefit_9</th>\n",
       "      <td>-0.018322</td>\n",
       "    </tr>\n",
       "    <tr>\n",
       "      <th>ebenefit_10</th>\n",
       "      <td>-0.085485</td>\n",
       "    </tr>\n",
       "    <tr>\n",
       "      <th>ebenefit_11</th>\n",
       "      <td>0.028996</td>\n",
       "    </tr>\n",
       "    <tr>\n",
       "      <th>ebenefit_12</th>\n",
       "      <td>0.080499</td>\n",
       "    </tr>\n",
       "    <tr>\n",
       "      <th>ebenefit_13</th>\n",
       "      <td>-0.100254</td>\n",
       "    </tr>\n",
       "    <tr>\n",
       "      <th>ebenefit_14</th>\n",
       "      <td>-0.038558</td>\n",
       "    </tr>\n",
       "    <tr>\n",
       "      <th>ebenefit_15</th>\n",
       "      <td>0.166134</td>\n",
       "    </tr>\n",
       "    <tr>\n",
       "      <th>ebenefit_16</th>\n",
       "      <td>-0.380206</td>\n",
       "    </tr>\n",
       "    <tr>\n",
       "      <th>cclass_2</th>\n",
       "      <td>-0.265870</td>\n",
       "    </tr>\n",
       "    <tr>\n",
       "      <th>cclass_3</th>\n",
       "      <td>-0.427767</td>\n",
       "    </tr>\n",
       "    <tr>\n",
       "      <th>cclass_4</th>\n",
       "      <td>-0.651405</td>\n",
       "    </tr>\n",
       "    <tr>\n",
       "      <th>internet_1</th>\n",
       "      <td>0.068171</td>\n",
       "    </tr>\n",
       "    <tr>\n",
       "      <th>jclass1_10</th>\n",
       "      <td>-0.149399</td>\n",
       "    </tr>\n",
       "    <tr>\n",
       "      <th>jclass1_2</th>\n",
       "      <td>-0.043678</td>\n",
       "    </tr>\n",
       "    <tr>\n",
       "      <th>jclass1_3</th>\n",
       "      <td>-0.013094</td>\n",
       "    </tr>\n",
       "    <tr>\n",
       "      <th>jclass1_4</th>\n",
       "      <td>-0.045309</td>\n",
       "    </tr>\n",
       "    <tr>\n",
       "      <th>jclass1_5</th>\n",
       "      <td>-0.338888</td>\n",
       "    </tr>\n",
       "    <tr>\n",
       "      <th>jclass1_6</th>\n",
       "      <td>0.117953</td>\n",
       "    </tr>\n",
       "    <tr>\n",
       "      <th>jclass1_7</th>\n",
       "      <td>0.025021</td>\n",
       "    </tr>\n",
       "    <tr>\n",
       "      <th>jclass1_8</th>\n",
       "      <td>-0.344629</td>\n",
       "    </tr>\n",
       "    <tr>\n",
       "      <th>jclass1_9</th>\n",
       "      <td>-0.024912</td>\n",
       "    </tr>\n",
       "  </tbody>\n",
       "</table>\n",
       "</div>"
      ],
      "text/plain": [
       "                  coef\n",
       "senior_1      0.139190\n",
       "edu_1        -0.061492\n",
       "edu_2         0.125092\n",
       "edu_3         0.434853\n",
       "min_exp_1     0.040115\n",
       "min_exp_3     0.329018\n",
       "min_exp_5     0.577250\n",
       "csize_2       0.090350\n",
       "csize_3       0.208390\n",
       "csize_4       0.321449\n",
       "stack_1       0.144843\n",
       "binsurance_1  0.094053\n",
       "minsurance_1  0.058471\n",
       "paleave_1     0.003434\n",
       "fpe_1         0.044661\n",
       "ebenefit_1   -0.089199\n",
       "ebenefit_2   -0.083214\n",
       "ebenefit_3   -0.024039\n",
       "ebenefit_4   -0.035697\n",
       "ebenefit_5   -0.086814\n",
       "ebenefit_6   -0.058600\n",
       "ebenefit_7   -0.036018\n",
       "ebenefit_8   -0.055688\n",
       "ebenefit_9   -0.018322\n",
       "ebenefit_10  -0.085485\n",
       "ebenefit_11   0.028996\n",
       "ebenefit_12   0.080499\n",
       "ebenefit_13  -0.100254\n",
       "ebenefit_14  -0.038558\n",
       "ebenefit_15   0.166134\n",
       "ebenefit_16  -0.380206\n",
       "cclass_2     -0.265870\n",
       "cclass_3     -0.427767\n",
       "cclass_4     -0.651405\n",
       "internet_1    0.068171\n",
       "jclass1_10   -0.149399\n",
       "jclass1_2    -0.043678\n",
       "jclass1_3    -0.013094\n",
       "jclass1_4    -0.045309\n",
       "jclass1_5    -0.338888\n",
       "jclass1_6     0.117953\n",
       "jclass1_7     0.025021\n",
       "jclass1_8    -0.344629\n",
       "jclass1_9    -0.024912"
      ]
     },
     "execution_count": 25,
     "metadata": {},
     "output_type": "execute_result"
    }
   ],
   "source": [
    "pd.DataFrame(data = linreg.coef_, index = X.columns, columns = ['coef']) ## 用特征名(X.columns)作为索引"
   ]
  },
  {
   "cell_type": "markdown",
   "id": "07991ef7",
   "metadata": {},
   "source": [
    "### 解释线性回归模型参数"
   ]
  },
  {
   "cell_type": "markdown",
   "id": "10b3b2a7",
   "metadata": {},
   "source": [
    "### Step 4: 在测试集上做预测"
   ]
  },
  {
   "cell_type": "markdown",
   "id": "3cc0b0eb",
   "metadata": {},
   "source": [
    "predict函数：predict(X) 用线性回归做预测"
   ]
  },
  {
   "cell_type": "code",
   "execution_count": 26,
   "id": "46e587aa",
   "metadata": {},
   "outputs": [],
   "source": [
    "y_pred = linreg.predict(X_test)"
   ]
  },
  {
   "cell_type": "markdown",
   "id": "20abccad",
   "metadata": {},
   "source": [
    "# 5. 评价模型（在测试集上）"
   ]
  },
  {
   "cell_type": "code",
   "execution_count": 27,
   "id": "ead66fc7",
   "metadata": {},
   "outputs": [],
   "source": [
    "from sklearn import metrics\n",
    "import numpy as np\n",
    "\n",
    "MSE = metrics.mean_squared_error(y_test, y_pred) ## 均方误差\n",
    "RMSE = np.sqrt(MSE) # 均方根误差"
   ]
  },
  {
   "cell_type": "code",
   "execution_count": 28,
   "id": "6a3e831e",
   "metadata": {},
   "outputs": [
    {
     "name": "stdout",
     "output_type": "stream",
     "text": [
      "0.1540609178558352\n",
      "0.3925059462681237\n"
     ]
    }
   ],
   "source": [
    "print(MSE)\n",
    "print(RMSE)"
   ]
  },
  {
   "cell_type": "code",
   "execution_count": 29,
   "id": "6578a9a2",
   "metadata": {},
   "outputs": [
    {
     "name": "stdout",
     "output_type": "stream",
     "text": [
      "0.6629212125370452\n"
     ]
    }
   ],
   "source": [
    "R2 = linreg.score(X_test, y_test)\n",
    "print(R2)"
   ]
  },
  {
   "cell_type": "markdown",
   "id": "2c04fcc9",
   "metadata": {},
   "source": [
    "# 6.可视化： 画出在测试集上的预测值和真实值Y的对比图"
   ]
  },
  {
   "cell_type": "markdown",
   "id": "71f15390",
   "metadata": {},
   "source": [
    "### 方法一：在同一张图中分别画出预测值的线和真实值的线"
   ]
  },
  {
   "cell_type": "markdown",
   "id": "b7bbaf49",
   "metadata": {},
   "source": [
    "#### 纵坐标y代表对应的预测值或真实值"
   ]
  },
  {
   "cell_type": "code",
   "execution_count": 30,
   "id": "ca8d6cd6",
   "metadata": {},
   "outputs": [
    {
     "data": {
      "image/png": "[encoded data removed]",
      "text/plain": [
       "<Figure size 432x288 with 1 Axes>"
      ]
     },
     "metadata": {
      "needs_background": "light"
     },
     "output_type": "display_data"
    }
   ],
   "source": [
    "plt.figure()\n",
    "plt.plot(range(len(y_pred)), y_pred, 'b',label=\"predict\") ## 预测值用蓝色线表示\n",
    "plt.plot(range(len(y_pred)), y_test, 'r',label=\"test\") ## 真实值用红色线表示\n",
    "plt.legend(loc=\"upper right\") #显示图中的标签\n",
    "#loc是location表示位置，upper right是右上方。\n",
    "plt.xlabel(\"Index\")\n",
    "#X轴的标签名字。\n",
    "plt.ylabel('Salary')\n",
    "#Y轴的标签名字。\n",
    "plt.show()\n",
    "#plt为matplotlib简写。\n",
    "#可以看哪些预测得好，哪些预测得不好。"
   ]
  },
  {
   "cell_type": "markdown",
   "id": "00eeaf4c",
   "metadata": {},
   "source": [
    "### 方法二：预测值 vs 真实值"
   ]
  },
  {
   "cell_type": "markdown",
   "id": "267e8635",
   "metadata": {},
   "source": [
    "#### 横坐标代表真实值，纵坐标代表预测值 (可以交换)"
   ]
  },
  {
   "cell_type": "code",
   "execution_count": 31,
   "id": "be10a594",
   "metadata": {},
   "outputs": [
    {
     "data": {
      "image/png": "[encoded data removed]",
      "text/plain": [
       "<Figure size 432x288 with 1 Axes>"
      ]
     },
     "metadata": {
      "needs_background": "light"
     },
     "output_type": "display_data"
    }
   ],
   "source": [
    "#45°线上的预测结果最好，代表预测值=真实值；接近这条线则相关关系大。\n",
    "plt.figure()\n",
    "#plt.plot(y_test,y_pred, 'bo',label=\"predict\") ## bo: 蓝色的圈\n",
    "#b是颜色，即blue是蓝色；o是点。\n",
    "plt.plot(y_test,y_pred, 'yo',label=\"predict\")\n",
    "#y为黄色。\n",
    "plt.xlabel(\"True value\")\n",
    "plt.ylabel('Predicted value')\n",
    "plt.show()"
   ]
  },
  {
   "cell_type": "code",
   "execution_count": null,
   "id": "3d339d56",
   "metadata": {},
   "outputs": [],
   "source": []
  }
 ],
 "metadata": {
  "kernelspec": {
   "display_name": "Python 3 (ipykernel)",
   "language": "python",
   "name": "python3"
  },
  "language_info": {
   "codemirror_mode": {
    "name": "ipython",
    "version": 3
   },
   "file_extension": ".py",
   "mimetype": "text/x-python",
   "name": "python",
   "nbconvert_exporter": "python",
   "pygments_lexer": "ipython3",
   "version": "3.9.12"
  }
 },
 "nbformat": 4,
 "nbformat_minor": 5
}
