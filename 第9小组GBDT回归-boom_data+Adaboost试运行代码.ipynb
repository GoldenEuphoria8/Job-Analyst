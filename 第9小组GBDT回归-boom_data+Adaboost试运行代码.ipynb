{
 "cells": [
  {
   "cell_type": "code",
   "execution_count": 102,
   "id": "05875b12",
   "metadata": {},
   "outputs": [],
   "source": [
    "import pandas as pd\n",
    "import numpy as np\n",
    "import seaborn as sns\n",
    "import matplotlib.pyplot as plt\n",
    "\n",
    "from sklearn.ensemble import AdaBoostRegressor\n",
    "from sklearn.ensemble import GradientBoostingRegressor as GBR\n",
    "from sklearn.tree import DecisionTreeRegressor as DTR\n",
    "from sklearn.ensemble import RandomForestRegressor as RFR\n",
    "from sklearn.model_selection import KFold,cross_validate,train_test_split\n",
    "from sklearn.metrics import mean_squared_error, r2_score\n",
    "\n",
    "import warnings\n",
    "warnings.filterwarnings('ignore', message='FutureWarning') \n",
    "plt.rcParams['font.sans-serif'] = ['SimHei'] # 用黑体显示中文\n",
    "plt.rc('axes', unicode_minus=False) #解决 UserFarning: Glyph 8722 (NMINTS SIGW) missing from current font.问题"
   ]
  },
  {
   "cell_type": "code",
   "execution_count": 2,
   "id": "f5f8cca8",
   "metadata": {
    "scrolled": true
   },
   "outputs": [
    {
     "name": "stdout",
     "output_type": "stream",
     "text": [
      "<class 'pandas.core.frame.DataFrame'>\n",
      "RangeIndex: 2228 entries, 0 to 2227\n",
      "Data columns (total 14 columns):\n",
      " #   Column      Non-Null Count  Dtype \n",
      "---  ------      --------------  ----- \n",
      " 0   senior      2228 non-null   int64 \n",
      " 1   y_salary    2228 non-null   int64 \n",
      " 2   edu         2228 non-null   int64 \n",
      " 3   exp         2228 non-null   object\n",
      " 4   size        2228 non-null   object\n",
      " 5   stack       2228 non-null   int64 \n",
      " 6   binsurance  2228 non-null   int64 \n",
      " 7   minsurance  2228 non-null   int64 \n",
      " 8   paleave     2228 non-null   int64 \n",
      " 9   fpe         2228 non-null   int64 \n",
      " 10  ebenefit    2228 non-null   int64 \n",
      " 11  cclass      2228 non-null   int64 \n",
      " 12  internet    2228 non-null   int64 \n",
      " 13  jclass      2228 non-null   int64 \n",
      "dtypes: int64(12), object(2)\n",
      "memory usage: 243.8+ KB\n"
     ]
    }
   ],
   "source": [
    "data = pd.read_csv(\"C:/Users/Turtles/Desktop/boom.csv\")\n",
    "# 数据类型调整之前变量情况\n",
    "data.info()"
   ]
  },
  {
   "cell_type": "code",
   "execution_count": 3,
   "id": "dd318d29",
   "metadata": {},
   "outputs": [
    {
     "data": {
      "text/html": [
       "<div>\n",
       "<style scoped>\n",
       "    .dataframe tbody tr th:only-of-type {\n",
       "        vertical-align: middle;\n",
       "    }\n",
       "\n",
       "    .dataframe tbody tr th {\n",
       "        vertical-align: top;\n",
       "    }\n",
       "\n",
       "    .dataframe thead th {\n",
       "        text-align: right;\n",
       "    }\n",
       "</style>\n",
       "<table border=\"1\" class=\"dataframe\">\n",
       "  <thead>\n",
       "    <tr style=\"text-align: right;\">\n",
       "      <th></th>\n",
       "      <th>senior</th>\n",
       "      <th>y_salary</th>\n",
       "      <th>edu</th>\n",
       "      <th>stack</th>\n",
       "      <th>binsurance</th>\n",
       "      <th>minsurance</th>\n",
       "      <th>paleave</th>\n",
       "      <th>fpe</th>\n",
       "      <th>ebenefit</th>\n",
       "      <th>cclass</th>\n",
       "      <th>internet</th>\n",
       "      <th>jclass</th>\n",
       "    </tr>\n",
       "  </thead>\n",
       "  <tbody>\n",
       "    <tr>\n",
       "      <th>count</th>\n",
       "      <td>2228.000000</td>\n",
       "      <td>2228.000000</td>\n",
       "      <td>2228.000000</td>\n",
       "      <td>2228.00000</td>\n",
       "      <td>2228.000000</td>\n",
       "      <td>2228.000000</td>\n",
       "      <td>2228.000000</td>\n",
       "      <td>2228.000000</td>\n",
       "      <td>2228.000000</td>\n",
       "      <td>2228.000000</td>\n",
       "      <td>2228.000000</td>\n",
       "      <td>2228.000000</td>\n",
       "    </tr>\n",
       "    <tr>\n",
       "      <th>mean</th>\n",
       "      <td>0.594255</td>\n",
       "      <td>167.723070</td>\n",
       "      <td>1.378366</td>\n",
       "      <td>0.25000</td>\n",
       "      <td>0.787253</td>\n",
       "      <td>0.312837</td>\n",
       "      <td>0.718133</td>\n",
       "      <td>0.572711</td>\n",
       "      <td>4.469479</td>\n",
       "      <td>2.132406</td>\n",
       "      <td>0.673698</td>\n",
       "      <td>5.631508</td>\n",
       "    </tr>\n",
       "    <tr>\n",
       "      <th>std</th>\n",
       "      <td>0.491146</td>\n",
       "      <td>130.817982</td>\n",
       "      <td>0.790615</td>\n",
       "      <td>0.43311</td>\n",
       "      <td>0.409342</td>\n",
       "      <td>0.463753</td>\n",
       "      <td>0.450010</td>\n",
       "      <td>0.494796</td>\n",
       "      <td>2.954294</td>\n",
       "      <td>1.048432</td>\n",
       "      <td>0.468964</td>\n",
       "      <td>2.782044</td>\n",
       "    </tr>\n",
       "    <tr>\n",
       "      <th>min</th>\n",
       "      <td>0.000000</td>\n",
       "      <td>40.000000</td>\n",
       "      <td>0.000000</td>\n",
       "      <td>0.00000</td>\n",
       "      <td>0.000000</td>\n",
       "      <td>0.000000</td>\n",
       "      <td>0.000000</td>\n",
       "      <td>0.000000</td>\n",
       "      <td>0.000000</td>\n",
       "      <td>1.000000</td>\n",
       "      <td>0.000000</td>\n",
       "      <td>1.000000</td>\n",
       "    </tr>\n",
       "    <tr>\n",
       "      <th>25%</th>\n",
       "      <td>0.000000</td>\n",
       "      <td>80.000000</td>\n",
       "      <td>1.000000</td>\n",
       "      <td>0.00000</td>\n",
       "      <td>1.000000</td>\n",
       "      <td>0.000000</td>\n",
       "      <td>0.000000</td>\n",
       "      <td>0.000000</td>\n",
       "      <td>2.000000</td>\n",
       "      <td>1.000000</td>\n",
       "      <td>0.000000</td>\n",
       "      <td>3.000000</td>\n",
       "    </tr>\n",
       "    <tr>\n",
       "      <th>50%</th>\n",
       "      <td>1.000000</td>\n",
       "      <td>126.000000</td>\n",
       "      <td>1.000000</td>\n",
       "      <td>0.00000</td>\n",
       "      <td>1.000000</td>\n",
       "      <td>0.000000</td>\n",
       "      <td>1.000000</td>\n",
       "      <td>1.000000</td>\n",
       "      <td>5.000000</td>\n",
       "      <td>2.000000</td>\n",
       "      <td>1.000000</td>\n",
       "      <td>6.000000</td>\n",
       "    </tr>\n",
       "    <tr>\n",
       "      <th>75%</th>\n",
       "      <td>1.000000</td>\n",
       "      <td>209.000000</td>\n",
       "      <td>2.000000</td>\n",
       "      <td>0.25000</td>\n",
       "      <td>1.000000</td>\n",
       "      <td>1.000000</td>\n",
       "      <td>1.000000</td>\n",
       "      <td>1.000000</td>\n",
       "      <td>7.000000</td>\n",
       "      <td>3.000000</td>\n",
       "      <td>1.000000</td>\n",
       "      <td>8.000000</td>\n",
       "    </tr>\n",
       "    <tr>\n",
       "      <th>max</th>\n",
       "      <td>1.000000</td>\n",
       "      <td>707.000000</td>\n",
       "      <td>3.000000</td>\n",
       "      <td>1.00000</td>\n",
       "      <td>1.000000</td>\n",
       "      <td>1.000000</td>\n",
       "      <td>1.000000</td>\n",
       "      <td>1.000000</td>\n",
       "      <td>10.000000</td>\n",
       "      <td>4.000000</td>\n",
       "      <td>1.000000</td>\n",
       "      <td>10.000000</td>\n",
       "    </tr>\n",
       "  </tbody>\n",
       "</table>\n",
       "</div>"
      ],
      "text/plain": [
       "            senior     y_salary          edu       stack   binsurance  \\\n",
       "count  2228.000000  2228.000000  2228.000000  2228.00000  2228.000000   \n",
       "mean      0.594255   167.723070     1.378366     0.25000     0.787253   \n",
       "std       0.491146   130.817982     0.790615     0.43311     0.409342   \n",
       "min       0.000000    40.000000     0.000000     0.00000     0.000000   \n",
       "25%       0.000000    80.000000     1.000000     0.00000     1.000000   \n",
       "50%       1.000000   126.000000     1.000000     0.00000     1.000000   \n",
       "75%       1.000000   209.000000     2.000000     0.25000     1.000000   \n",
       "max       1.000000   707.000000     3.000000     1.00000     1.000000   \n",
       "\n",
       "        minsurance      paleave          fpe     ebenefit       cclass  \\\n",
       "count  2228.000000  2228.000000  2228.000000  2228.000000  2228.000000   \n",
       "mean      0.312837     0.718133     0.572711     4.469479     2.132406   \n",
       "std       0.463753     0.450010     0.494796     2.954294     1.048432   \n",
       "min       0.000000     0.000000     0.000000     0.000000     1.000000   \n",
       "25%       0.000000     0.000000     0.000000     2.000000     1.000000   \n",
       "50%       0.000000     1.000000     1.000000     5.000000     2.000000   \n",
       "75%       1.000000     1.000000     1.000000     7.000000     3.000000   \n",
       "max       1.000000     1.000000     1.000000    10.000000     4.000000   \n",
       "\n",
       "          internet       jclass  \n",
       "count  2228.000000  2228.000000  \n",
       "mean      0.673698     5.631508  \n",
       "std       0.468964     2.782044  \n",
       "min       0.000000     1.000000  \n",
       "25%       0.000000     3.000000  \n",
       "50%       1.000000     6.000000  \n",
       "75%       1.000000     8.000000  \n",
       "max       1.000000    10.000000  "
      ]
     },
     "execution_count": 3,
     "metadata": {},
     "output_type": "execute_result"
    }
   ],
   "source": [
    "data.describe()"
   ]
  },
  {
   "cell_type": "markdown",
   "id": "a7e0e024",
   "metadata": {},
   "source": [
    "把edu, p_class, csize,cclass（城市等级），min_exp变成一个整型有序变量和分类变量的结果对比一下"
   ]
  },
  {
   "cell_type": "code",
   "execution_count": 6,
   "id": "70440281",
   "metadata": {},
   "outputs": [],
   "source": [
    "# 数据预处理\n",
    "\n",
    "# 唯一的连续变量\n",
    "# ebenefit\n",
    "\n",
    "# 分类变量列表\n",
    "data['size'] = data['size'].apply(str)\n",
    "data['edu'] = data['edu'].apply(str)\n",
    "data['exp'] = data['exp'].apply(str)\n",
    "data['cclass']= data['cclass'].apply(str)\n",
    "data['jclass']= data['jclass'].apply(str)\n",
    "\n",
    "# 虚拟变量列表\n",
    "data['senior'] = data['senior'].apply(str)\n",
    "data['stack'] = data['stack'].apply(str)\n",
    "data['binsurance'] = data['binsurance'].apply(str)\n",
    "data['minsurance'] = data['minsurance'].apply(str)\n",
    "data['paleave'] = data['paleave'].apply(str)\n",
    "data['fpe'] = data['fpe'].apply(str)\n",
    "data['internet'] = data['internet'].apply(str)\n",
    "\n",
    "# portion特别对待\n",
    "# data['p_class'] = data['p_class'].apply(str)"
   ]
  },
  {
   "cell_type": "code",
   "execution_count": 7,
   "id": "8e45a09c",
   "metadata": {},
   "outputs": [
    {
     "name": "stdout",
     "output_type": "stream",
     "text": [
      "<class 'pandas.core.frame.DataFrame'>\n",
      "RangeIndex: 2228 entries, 0 to 2227\n",
      "Data columns (total 14 columns):\n",
      " #   Column      Non-Null Count  Dtype \n",
      "---  ------      --------------  ----- \n",
      " 0   senior      2228 non-null   object\n",
      " 1   y_salary    2228 non-null   int64 \n",
      " 2   edu         2228 non-null   object\n",
      " 3   exp         2228 non-null   object\n",
      " 4   size        2228 non-null   object\n",
      " 5   stack       2228 non-null   object\n",
      " 6   binsurance  2228 non-null   object\n",
      " 7   minsurance  2228 non-null   object\n",
      " 8   paleave     2228 non-null   object\n",
      " 9   fpe         2228 non-null   object\n",
      " 10  ebenefit    2228 non-null   int64 \n",
      " 11  cclass      2228 non-null   object\n",
      " 12  internet    2228 non-null   object\n",
      " 13  jclass      2228 non-null   object\n",
      "dtypes: int64(2), object(12)\n",
      "memory usage: 243.8+ KB\n"
     ]
    }
   ],
   "source": [
    "# 数据类型调整之后变量情况\n",
    "data.info()"
   ]
  },
  {
   "cell_type": "code",
   "execution_count": 8,
   "id": "8a0bc809",
   "metadata": {
    "scrolled": true
   },
   "outputs": [
    {
     "data": {
      "text/html": [
       "<div>\n",
       "<style scoped>\n",
       "    .dataframe tbody tr th:only-of-type {\n",
       "        vertical-align: middle;\n",
       "    }\n",
       "\n",
       "    .dataframe tbody tr th {\n",
       "        vertical-align: top;\n",
       "    }\n",
       "\n",
       "    .dataframe thead th {\n",
       "        text-align: right;\n",
       "    }\n",
       "</style>\n",
       "<table border=\"1\" class=\"dataframe\">\n",
       "  <thead>\n",
       "    <tr style=\"text-align: right;\">\n",
       "      <th></th>\n",
       "      <th>y_salary</th>\n",
       "      <th>ebenefit</th>\n",
       "    </tr>\n",
       "  </thead>\n",
       "  <tbody>\n",
       "    <tr>\n",
       "      <th>count</th>\n",
       "      <td>2228.000000</td>\n",
       "      <td>2228.000000</td>\n",
       "    </tr>\n",
       "    <tr>\n",
       "      <th>mean</th>\n",
       "      <td>167.723070</td>\n",
       "      <td>4.469479</td>\n",
       "    </tr>\n",
       "    <tr>\n",
       "      <th>std</th>\n",
       "      <td>130.817982</td>\n",
       "      <td>2.954294</td>\n",
       "    </tr>\n",
       "    <tr>\n",
       "      <th>min</th>\n",
       "      <td>40.000000</td>\n",
       "      <td>0.000000</td>\n",
       "    </tr>\n",
       "    <tr>\n",
       "      <th>25%</th>\n",
       "      <td>80.000000</td>\n",
       "      <td>2.000000</td>\n",
       "    </tr>\n",
       "    <tr>\n",
       "      <th>50%</th>\n",
       "      <td>126.000000</td>\n",
       "      <td>5.000000</td>\n",
       "    </tr>\n",
       "    <tr>\n",
       "      <th>75%</th>\n",
       "      <td>209.000000</td>\n",
       "      <td>7.000000</td>\n",
       "    </tr>\n",
       "    <tr>\n",
       "      <th>max</th>\n",
       "      <td>707.000000</td>\n",
       "      <td>10.000000</td>\n",
       "    </tr>\n",
       "  </tbody>\n",
       "</table>\n",
       "</div>"
      ],
      "text/plain": [
       "          y_salary     ebenefit\n",
       "count  2228.000000  2228.000000\n",
       "mean    167.723070     4.469479\n",
       "std     130.817982     2.954294\n",
       "min      40.000000     0.000000\n",
       "25%      80.000000     2.000000\n",
       "50%     126.000000     5.000000\n",
       "75%     209.000000     7.000000\n",
       "max     707.000000    10.000000"
      ]
     },
     "execution_count": 8,
     "metadata": {},
     "output_type": "execute_result"
    }
   ],
   "source": [
    "data.describe()"
   ]
  },
  {
   "cell_type": "code",
   "execution_count": 9,
   "id": "6da0ec7f",
   "metadata": {},
   "outputs": [],
   "source": [
    "# 构建X特征值\n",
    "features = [# 分类变量列表\n",
    "            \"size\",\"edu\",\"exp\", \"cclass\", \"jclass\",\n",
    "            # 连续变量列表\n",
    "            \"ebenefit\",\n",
    "            # 虚拟变量列表\n",
    "            \"senior\",\n",
    "            \"stack\",\"binsurance\",\"minsurance\",\"paleave\",\"fpe\",\n",
    "            \"internet\"]\n",
    "X = data[features]\n",
    "\n",
    "# 处理分类变量，转变为虚拟变量\n",
    "X = pd.get_dummies(X, drop_first=True)\n",
    "\n",
    "# 构建输出变量\n",
    "\n",
    "# 是否取对数\n",
    "data['y_salary_log'] = data['y_salary'].apply(np.log)\n",
    "\n",
    "y = data['y_salary_log']\n",
    "\n",
    "# 划分训练集和测试集\n",
    "from sklearn.model_selection import train_test_split\n",
    "X_train, X_test, y_train, y_test = train_test_split(X, y, test_size=0.2, random_state=0)"
   ]
  },
  {
   "cell_type": "code",
   "execution_count": 10,
   "id": "3b6127e0",
   "metadata": {
    "scrolled": false
   },
   "outputs": [
    {
     "name": "stderr",
     "output_type": "stream",
     "text": [
      "D:\\Anaconda3-2021.11-Windows-x86_64\\lib\\site-packages\\pandas\\core\\frame.py:3678: SettingWithCopyWarning: \n",
      "A value is trying to be set on a copy of a slice from a DataFrame.\n",
      "Try using .loc[row_indexer,col_indexer] = value instead\n",
      "\n",
      "See the caveats in the documentation: https://pandas.pydata.org/pandas-docs/stable/user_guide/indexing.html#returning-a-view-versus-a-copy\n",
      "  self[col] = igetitem(value, i)\n",
      "D:\\Anaconda3-2021.11-Windows-x86_64\\lib\\site-packages\\pandas\\core\\frame.py:3678: SettingWithCopyWarning: \n",
      "A value is trying to be set on a copy of a slice from a DataFrame.\n",
      "Try using .loc[row_indexer,col_indexer] = value instead\n",
      "\n",
      "See the caveats in the documentation: https://pandas.pydata.org/pandas-docs/stable/user_guide/indexing.html#returning-a-view-versus-a-copy\n",
      "  self[col] = igetitem(value, i)\n"
     ]
    }
   ],
   "source": [
    "# 标准化处理一下（只能对连续变量标准化处理）\n",
    "from sklearn.preprocessing import StandardScaler\n",
    "scaler = StandardScaler()\n",
    "# scaler = MinMaxScaler()\n",
    "continuous_feature = [\n",
    "                      \"ebenefit\"\n",
    "                      ]\n",
    "\n",
    "# 复制前述中的X_train, X_test， 并重新命名为standard_X_train， standard_X_test\n",
    "standard_X_train = X_train\n",
    "standard_X_test = X_test\n",
    "\n",
    "# 分别对训练集和测试集中的连续特征进行标准化缩放\n",
    "standard_X_train[continuous_feature] = scaler.fit_transform(standard_X_train[continuous_feature]) \n",
    "standard_X_test[continuous_feature] = scaler.fit_transform(standard_X_test[continuous_feature]) "
   ]
  },
  {
   "cell_type": "code",
   "execution_count": 11,
   "id": "cab5cb9e",
   "metadata": {
    "scrolled": false
   },
   "outputs": [
    {
     "data": {
      "text/html": [
       "<div>\n",
       "<style scoped>\n",
       "    .dataframe tbody tr th:only-of-type {\n",
       "        vertical-align: middle;\n",
       "    }\n",
       "\n",
       "    .dataframe tbody tr th {\n",
       "        vertical-align: top;\n",
       "    }\n",
       "\n",
       "    .dataframe thead th {\n",
       "        text-align: right;\n",
       "    }\n",
       "</style>\n",
       "<table border=\"1\" class=\"dataframe\">\n",
       "  <thead>\n",
       "    <tr style=\"text-align: right;\">\n",
       "      <th></th>\n",
       "      <th>ebenefit</th>\n",
       "      <th>size_100-499人</th>\n",
       "      <th>size_1000-9999人</th>\n",
       "      <th>size_10000人以上</th>\n",
       "      <th>size_20-99人</th>\n",
       "      <th>size_500-999人</th>\n",
       "      <th>edu_1</th>\n",
       "      <th>edu_2</th>\n",
       "      <th>edu_3</th>\n",
       "      <th>exp_1到3</th>\n",
       "      <th>...</th>\n",
       "      <th>jclass_7</th>\n",
       "      <th>jclass_8</th>\n",
       "      <th>jclass_9</th>\n",
       "      <th>senior_1</th>\n",
       "      <th>stack_1</th>\n",
       "      <th>binsurance_1</th>\n",
       "      <th>minsurance_1</th>\n",
       "      <th>paleave_1</th>\n",
       "      <th>fpe_1</th>\n",
       "      <th>internet_1</th>\n",
       "    </tr>\n",
       "  </thead>\n",
       "  <tbody>\n",
       "    <tr>\n",
       "      <th>count</th>\n",
       "      <td>1.782000e+03</td>\n",
       "      <td>1782.000000</td>\n",
       "      <td>1782.000000</td>\n",
       "      <td>1782.000000</td>\n",
       "      <td>1782.000000</td>\n",
       "      <td>1782.000000</td>\n",
       "      <td>1782.000000</td>\n",
       "      <td>1782.000000</td>\n",
       "      <td>1782.000000</td>\n",
       "      <td>1782.000000</td>\n",
       "      <td>...</td>\n",
       "      <td>1782.000000</td>\n",
       "      <td>1782.000000</td>\n",
       "      <td>1782.000000</td>\n",
       "      <td>1782.000000</td>\n",
       "      <td>1782.000000</td>\n",
       "      <td>1782.000000</td>\n",
       "      <td>1782.000000</td>\n",
       "      <td>1782.000000</td>\n",
       "      <td>1782.000000</td>\n",
       "      <td>1782.000000</td>\n",
       "    </tr>\n",
       "    <tr>\n",
       "      <th>mean</th>\n",
       "      <td>-1.236696e-16</td>\n",
       "      <td>0.204265</td>\n",
       "      <td>0.173962</td>\n",
       "      <td>0.227834</td>\n",
       "      <td>0.217172</td>\n",
       "      <td>0.057239</td>\n",
       "      <td>0.449495</td>\n",
       "      <td>0.358586</td>\n",
       "      <td>0.071268</td>\n",
       "      <td>0.271044</td>\n",
       "      <td>...</td>\n",
       "      <td>0.096521</td>\n",
       "      <td>0.070707</td>\n",
       "      <td>0.081369</td>\n",
       "      <td>0.592031</td>\n",
       "      <td>0.248036</td>\n",
       "      <td>0.790685</td>\n",
       "      <td>0.310887</td>\n",
       "      <td>0.717733</td>\n",
       "      <td>0.572391</td>\n",
       "      <td>0.670595</td>\n",
       "    </tr>\n",
       "    <tr>\n",
       "      <th>std</th>\n",
       "      <td>1.000281e+00</td>\n",
       "      <td>0.403277</td>\n",
       "      <td>0.379183</td>\n",
       "      <td>0.419553</td>\n",
       "      <td>0.412436</td>\n",
       "      <td>0.232364</td>\n",
       "      <td>0.497582</td>\n",
       "      <td>0.479720</td>\n",
       "      <td>0.257345</td>\n",
       "      <td>0.444623</td>\n",
       "      <td>...</td>\n",
       "      <td>0.295387</td>\n",
       "      <td>0.256407</td>\n",
       "      <td>0.273478</td>\n",
       "      <td>0.491595</td>\n",
       "      <td>0.431994</td>\n",
       "      <td>0.406934</td>\n",
       "      <td>0.462986</td>\n",
       "      <td>0.450229</td>\n",
       "      <td>0.494871</td>\n",
       "      <td>0.470129</td>\n",
       "    </tr>\n",
       "    <tr>\n",
       "      <th>min</th>\n",
       "      <td>-1.507226e+00</td>\n",
       "      <td>0.000000</td>\n",
       "      <td>0.000000</td>\n",
       "      <td>0.000000</td>\n",
       "      <td>0.000000</td>\n",
       "      <td>0.000000</td>\n",
       "      <td>0.000000</td>\n",
       "      <td>0.000000</td>\n",
       "      <td>0.000000</td>\n",
       "      <td>0.000000</td>\n",
       "      <td>...</td>\n",
       "      <td>0.000000</td>\n",
       "      <td>0.000000</td>\n",
       "      <td>0.000000</td>\n",
       "      <td>0.000000</td>\n",
       "      <td>0.000000</td>\n",
       "      <td>0.000000</td>\n",
       "      <td>0.000000</td>\n",
       "      <td>0.000000</td>\n",
       "      <td>0.000000</td>\n",
       "      <td>0.000000</td>\n",
       "    </tr>\n",
       "    <tr>\n",
       "      <th>25%</th>\n",
       "      <td>-8.302566e-01</td>\n",
       "      <td>0.000000</td>\n",
       "      <td>0.000000</td>\n",
       "      <td>0.000000</td>\n",
       "      <td>0.000000</td>\n",
       "      <td>0.000000</td>\n",
       "      <td>0.000000</td>\n",
       "      <td>0.000000</td>\n",
       "      <td>0.000000</td>\n",
       "      <td>0.000000</td>\n",
       "      <td>...</td>\n",
       "      <td>0.000000</td>\n",
       "      <td>0.000000</td>\n",
       "      <td>0.000000</td>\n",
       "      <td>0.000000</td>\n",
       "      <td>0.000000</td>\n",
       "      <td>1.000000</td>\n",
       "      <td>0.000000</td>\n",
       "      <td>0.000000</td>\n",
       "      <td>0.000000</td>\n",
       "      <td>0.000000</td>\n",
       "    </tr>\n",
       "    <tr>\n",
       "      <th>50%</th>\n",
       "      <td>-1.532869e-01</td>\n",
       "      <td>0.000000</td>\n",
       "      <td>0.000000</td>\n",
       "      <td>0.000000</td>\n",
       "      <td>0.000000</td>\n",
       "      <td>0.000000</td>\n",
       "      <td>0.000000</td>\n",
       "      <td>0.000000</td>\n",
       "      <td>0.000000</td>\n",
       "      <td>0.000000</td>\n",
       "      <td>...</td>\n",
       "      <td>0.000000</td>\n",
       "      <td>0.000000</td>\n",
       "      <td>0.000000</td>\n",
       "      <td>1.000000</td>\n",
       "      <td>0.000000</td>\n",
       "      <td>1.000000</td>\n",
       "      <td>0.000000</td>\n",
       "      <td>1.000000</td>\n",
       "      <td>1.000000</td>\n",
       "      <td>1.000000</td>\n",
       "    </tr>\n",
       "    <tr>\n",
       "      <th>75%</th>\n",
       "      <td>8.621676e-01</td>\n",
       "      <td>0.000000</td>\n",
       "      <td>0.000000</td>\n",
       "      <td>0.000000</td>\n",
       "      <td>0.000000</td>\n",
       "      <td>0.000000</td>\n",
       "      <td>1.000000</td>\n",
       "      <td>1.000000</td>\n",
       "      <td>0.000000</td>\n",
       "      <td>1.000000</td>\n",
       "      <td>...</td>\n",
       "      <td>0.000000</td>\n",
       "      <td>0.000000</td>\n",
       "      <td>0.000000</td>\n",
       "      <td>1.000000</td>\n",
       "      <td>0.000000</td>\n",
       "      <td>1.000000</td>\n",
       "      <td>1.000000</td>\n",
       "      <td>1.000000</td>\n",
       "      <td>1.000000</td>\n",
       "      <td>1.000000</td>\n",
       "    </tr>\n",
       "    <tr>\n",
       "      <th>max</th>\n",
       "      <td>1.877622e+00</td>\n",
       "      <td>1.000000</td>\n",
       "      <td>1.000000</td>\n",
       "      <td>1.000000</td>\n",
       "      <td>1.000000</td>\n",
       "      <td>1.000000</td>\n",
       "      <td>1.000000</td>\n",
       "      <td>1.000000</td>\n",
       "      <td>1.000000</td>\n",
       "      <td>1.000000</td>\n",
       "      <td>...</td>\n",
       "      <td>1.000000</td>\n",
       "      <td>1.000000</td>\n",
       "      <td>1.000000</td>\n",
       "      <td>1.000000</td>\n",
       "      <td>1.000000</td>\n",
       "      <td>1.000000</td>\n",
       "      <td>1.000000</td>\n",
       "      <td>1.000000</td>\n",
       "      <td>1.000000</td>\n",
       "      <td>1.000000</td>\n",
       "    </tr>\n",
       "  </tbody>\n",
       "</table>\n",
       "<p>8 rows × 31 columns</p>\n",
       "</div>"
      ],
      "text/plain": [
       "           ebenefit  size_100-499人  size_1000-9999人  size_10000人以上  \\\n",
       "count  1.782000e+03    1782.000000      1782.000000    1782.000000   \n",
       "mean  -1.236696e-16       0.204265         0.173962       0.227834   \n",
       "std    1.000281e+00       0.403277         0.379183       0.419553   \n",
       "min   -1.507226e+00       0.000000         0.000000       0.000000   \n",
       "25%   -8.302566e-01       0.000000         0.000000       0.000000   \n",
       "50%   -1.532869e-01       0.000000         0.000000       0.000000   \n",
       "75%    8.621676e-01       0.000000         0.000000       0.000000   \n",
       "max    1.877622e+00       1.000000         1.000000       1.000000   \n",
       "\n",
       "       size_20-99人  size_500-999人        edu_1        edu_2        edu_3  \\\n",
       "count  1782.000000    1782.000000  1782.000000  1782.000000  1782.000000   \n",
       "mean      0.217172       0.057239     0.449495     0.358586     0.071268   \n",
       "std       0.412436       0.232364     0.497582     0.479720     0.257345   \n",
       "min       0.000000       0.000000     0.000000     0.000000     0.000000   \n",
       "25%       0.000000       0.000000     0.000000     0.000000     0.000000   \n",
       "50%       0.000000       0.000000     0.000000     0.000000     0.000000   \n",
       "75%       0.000000       0.000000     1.000000     1.000000     0.000000   \n",
       "max       1.000000       1.000000     1.000000     1.000000     1.000000   \n",
       "\n",
       "           exp_1到3  ...     jclass_7     jclass_8     jclass_9     senior_1  \\\n",
       "count  1782.000000  ...  1782.000000  1782.000000  1782.000000  1782.000000   \n",
       "mean      0.271044  ...     0.096521     0.070707     0.081369     0.592031   \n",
       "std       0.444623  ...     0.295387     0.256407     0.273478     0.491595   \n",
       "min       0.000000  ...     0.000000     0.000000     0.000000     0.000000   \n",
       "25%       0.000000  ...     0.000000     0.000000     0.000000     0.000000   \n",
       "50%       0.000000  ...     0.000000     0.000000     0.000000     1.000000   \n",
       "75%       1.000000  ...     0.000000     0.000000     0.000000     1.000000   \n",
       "max       1.000000  ...     1.000000     1.000000     1.000000     1.000000   \n",
       "\n",
       "           stack_1  binsurance_1  minsurance_1    paleave_1        fpe_1  \\\n",
       "count  1782.000000   1782.000000   1782.000000  1782.000000  1782.000000   \n",
       "mean      0.248036      0.790685      0.310887     0.717733     0.572391   \n",
       "std       0.431994      0.406934      0.462986     0.450229     0.494871   \n",
       "min       0.000000      0.000000      0.000000     0.000000     0.000000   \n",
       "25%       0.000000      1.000000      0.000000     0.000000     0.000000   \n",
       "50%       0.000000      1.000000      0.000000     1.000000     1.000000   \n",
       "75%       0.000000      1.000000      1.000000     1.000000     1.000000   \n",
       "max       1.000000      1.000000      1.000000     1.000000     1.000000   \n",
       "\n",
       "        internet_1  \n",
       "count  1782.000000  \n",
       "mean      0.670595  \n",
       "std       0.470129  \n",
       "min       0.000000  \n",
       "25%       0.000000  \n",
       "50%       1.000000  \n",
       "75%       1.000000  \n",
       "max       1.000000  \n",
       "\n",
       "[8 rows x 31 columns]"
      ]
     },
     "execution_count": 11,
     "metadata": {},
     "output_type": "execute_result"
    }
   ],
   "source": [
    "standard_X_train.describe()"
   ]
  },
  {
   "cell_type": "markdown",
   "id": "a4e3951c",
   "metadata": {},
   "source": [
    "## AdaBoost 提升法"
   ]
  },
  {
   "cell_type": "code",
   "execution_count": 12,
   "id": "f0668244",
   "metadata": {},
   "outputs": [],
   "source": [
    "from sklearn.ensemble import AdaBoostRegressor\n",
    "from sklearn.metrics import mean_squared_error as MSE\n",
    "from sklearn.model_selection import KFold, cross_validate"
   ]
  },
  {
   "cell_type": "code",
   "execution_count": 104,
   "id": "e7e954fe",
   "metadata": {
    "scrolled": false
   },
   "outputs": [
    {
     "name": "stderr",
     "output_type": "stream",
     "text": [
      "[Parallel(n_jobs=-1)]: Using backend LokyBackend with 8 concurrent workers.\n",
      "[Parallel(n_jobs=-1)]: Done   2 out of   5 | elapsed:    3.0s remaining:    4.6s\n",
      "[Parallel(n_jobs=-1)]: Done   5 out of   5 | elapsed:    3.1s finished\n"
     ]
    },
    {
     "data": {
      "image/png": "[encoded data removed]",
      "text/plain": [
       "<Figure size 432x432 with 1 Axes>"
      ]
     },
     "metadata": {
      "needs_background": "light"
     },
     "output_type": "display_data"
    },
    {
     "name": "stdout",
     "output_type": "stream",
     "text": [
      "Adaboost的均方误差为： 0.4273037438911088\n"
     ]
    }
   ],
   "source": [
    "# AdaBoost提升法，通过每一轮自身的数去影响下一轮数的确定与影响，下一轮数值的确定是依据上一轮数的错误了确定的\n",
    "# adaboost采用“自适应提升”，利用它本身的算法特性来拟合\n",
    "# 默认的基学习器为决策树\n",
    "# 引入AdaBoostRegressor算法\n",
    "base_estimators = DTR(max_depth=5, random_state = 0)\n",
    "adaboost = AdaBoostRegressor(base_estimator=base_estimators, # 即使填写none，仍然默认使用决策树作为基学习器\n",
    "                             n_estimators=200, \n",
    "                             learning_rate=1.0, \n",
    "                             loss='exponential', # ‘linear','square’,'exponential’\n",
    "                             random_state=0, \n",
    "                             )\n",
    "# 设置cv参数，5折交叉验证\n",
    "cv = KFold(n_splits=5, shuffle=True, random_state=0)\n",
    "\n",
    "#  交叉验证的评判指标建立\n",
    "validation_ada = cross_validate(adaboost, standard_X_train, y_train, #X, y,\n",
    "                                scoring='neg_root_mean_squared_error', # 这里用均方根误差，对应上边square的loss rate\n",
    "                                cv=cv,\n",
    "                                n_jobs=-1,\n",
    "                                verbose=True, # 显示运行进度，算的慢让电脑跑着就行\n",
    "                                return_train_score=True # 显示训练集的得分\n",
    "                                )\n",
    "\n",
    "# 交叉验证的可视化\n",
    "plt.figure(figsize = (6,6))\n",
    "plt.plot(range(1,6), validation_ada['train_score'], 'b-', label = 'train')\n",
    "plt.plot(range(1,6), validation_ada['test_score'], 'r-', label = 'test')\n",
    "plt.legend(loc='upper right') \n",
    "plt.title('The MSE of AdaBoost')\n",
    "plt.show()\n",
    "print('Adaboost的均方误差为：', abs(validation_ada['test_score']).mean())"
   ]
  },
  {
   "cell_type": "code",
   "execution_count": 105,
   "id": "d19661f4",
   "metadata": {},
   "outputs": [],
   "source": [
    "# Adaboost的均方误差为： 0.4273037438911088"
   ]
  },
  {
   "cell_type": "markdown",
   "id": "c6309c11",
   "metadata": {},
   "source": [
    "## 1.基于Hyperopt实现TPE优化Adaboost"
   ]
  },
  {
   "cell_type": "code",
   "execution_count": 12,
   "id": "c326cd9c",
   "metadata": {
    "scrolled": true
   },
   "outputs": [
    {
     "data": {
      "image/png": "[encoded data removed]",
      "text/plain": [
       "<Figure size 432x432 with 1 Axes>"
      ]
     },
     "metadata": {
      "needs_background": "light"
     },
     "output_type": "display_data"
    }
   ],
   "source": [
    "# 绘制n_estimators的学习率曲线\n",
    "\n",
    "# 创建得分列表存储\n",
    "trainscore_ada_n = []\n",
    "testscore_ada_n = []\n",
    "\n",
    "# 搭建参数空间的取值的寻找平台\n",
    "for i in range(1,20):\n",
    "    # 引入AdaBoostRegressor算法\n",
    "    base_estimators = DTR(max_depth=5, min_samples_split=10, min_samples_leaf=4, max_features=\"auto\", random_state = 0)\n",
    "#     max_depth=10,min_samples_split=10,min_samples_leaf=4,max_features为auto,random_state=0\n",
    "    adaboost = AdaBoostRegressor(base_estimator=base_estimators, # 即使填写none，仍然默认使用决策树作为基学习器\n",
    "                                 n_estimators=200, \n",
    "                                 learning_rate=1.0, \n",
    "                                 loss='exponential', # 'liner','square','exponential'\n",
    "                                 random_state=0, \n",
    "                                 )\n",
    "    \n",
    "    # 设置cv参数，5折交叉验证\n",
    "    cv = KFold(n_splits=5, shuffle=True, random_state=0) \n",
    "    \n",
    "    #  交叉验证的评判指标建立           \n",
    "    validation_ada = cross_validate(adaboost, standard_X_train, y_train,\n",
    "                                    scoring='neg_root_mean_squared_error', # 这里用均方根误差，对应上边square的loss rate\n",
    "                                    cv=cv,\n",
    "                                    n_jobs=-1,\n",
    "                                    verbose=False, # 显示运行进度，算的慢让电脑跑着就行\n",
    "                                    return_train_score=True # 显示训练集的得分\n",
    "                                    )\n",
    "    trainscore_ada_n.append(abs(validation_ada['train_score']).mean())\n",
    "    testscore_ada_n.append(abs(validation_ada['test_score']).mean())\n",
    "\n",
    "# 交叉验证的可视化\n",
    "plt.figure(figsize = (6,6))\n",
    "plt.plot(range(1,20), trainscore_ada_n, linestyle = '-', color = 'b', label = 'train')\n",
    "plt.plot(range(1,20), testscore_ada_n, linestyle = '--', color = 'r', label = 'test')\n",
    "plt.legend(loc='upper right')\n",
    "plt.title('AdaBoost n_estimators Rate')\n",
    "plt.show()"
   ]
  },
  {
   "cell_type": "markdown",
   "id": "db8c4e2b",
   "metadata": {},
   "source": [
    "## 2.开始优化"
   ]
  },
  {
   "cell_type": "code",
   "execution_count": 17,
   "id": "a1816e07",
   "metadata": {
    "scrolled": true
   },
   "outputs": [
    {
     "name": "stdout",
     "output_type": "stream",
     "text": [
      "Looking in indexes: https://pypi.doubanio.com/simple\n",
      "Requirement already satisfied: hyperopt in d:\\anaconda3-2021.11-windows-x86_64\\lib\\site-packages (0.2.7)\n",
      "Requirement already satisfied: scipy in d:\\anaconda3-2021.11-windows-x86_64\\lib\\site-packages (from hyperopt) (1.7.1)\n",
      "Requirement already satisfied: cloudpickle in d:\\anaconda3-2021.11-windows-x86_64\\lib\\site-packages (from hyperopt) (2.0.0)\n",
      "Requirement already satisfied: future in d:\\anaconda3-2021.11-windows-x86_64\\lib\\site-packages (from hyperopt) (0.18.2)\n",
      "Requirement already satisfied: networkx>=2.2 in d:\\anaconda3-2021.11-windows-x86_64\\lib\\site-packages (from hyperopt) (2.6.3)\n",
      "Requirement already satisfied: numpy in d:\\anaconda3-2021.11-windows-x86_64\\lib\\site-packages (from hyperopt) (1.20.3)\n",
      "Requirement already satisfied: six in d:\\anaconda3-2021.11-windows-x86_64\\lib\\site-packages (from hyperopt) (1.16.0)\n",
      "Requirement already satisfied: tqdm in d:\\anaconda3-2021.11-windows-x86_64\\lib\\site-packages (from hyperopt) (4.62.3)\n",
      "Requirement already satisfied: py4j in d:\\anaconda3-2021.11-windows-x86_64\\lib\\site-packages (from hyperopt) (0.10.9.7)\n",
      "Requirement already satisfied: colorama in d:\\anaconda3-2021.11-windows-x86_64\\lib\\site-packages (from tqdm->hyperopt) (0.4.4)\n"
     ]
    }
   ],
   "source": [
    "# 安装一下，基于PTE的拟合模型\n",
    "! pip install hyperopt -i https://pypi.doubanio.com/simple"
   ]
  },
  {
   "cell_type": "code",
   "execution_count": 18,
   "id": "01ace25c",
   "metadata": {},
   "outputs": [],
   "source": [
    "import hyperopt\n",
    "from hyperopt import fmin, tpe, Trials, hp, partial\n",
    "from hyperopt.early_stop import no_progress_loss"
   ]
  },
  {
   "cell_type": "code",
   "execution_count": 15,
   "id": "6a54912a",
   "metadata": {},
   "outputs": [],
   "source": [
    "# 定义目标函数\n",
    "def hyperopt_objective_adaboost(params):\n",
    "#     base_estimators = DTR(max_depth = 5, random_state = 0)\n",
    "    base_estimators = DTR(max_depth=10, min_samples_split=10, min_samples_leaf=4, max_features=\"auto\", random_state = 0)\n",
    "    adaboost = AdaBoostRegressor(base_estimator=base_estimators,\n",
    "                                 n_estimators=int(params['n_estimators']), # 迭代次数越多，随机项带来的影响是否越小，但是箱线图上显示离散值偏多 \n",
    "                                 learning_rate=params['learning_rate'], \n",
    "                                 loss=str(params['loss']), \n",
    "                                 random_state=0, \n",
    "                                 )\n",
    "    \n",
    "    # 设置cv参数，5折交叉验证\n",
    "    cv = KFold(n_splits=5, shuffle=True, random_state=0) \n",
    "    \n",
    "    #  交叉验证的评判指标建立           \n",
    "    validation_ada_tpe = cross_validate(adaboost, standard_X_train, y_train,\n",
    "                                        scoring = 'neg_root_mean_squared_error', # 这里用均方根误差，对应上边square的loss rate\n",
    "                                        cv = cv,\n",
    "                                        n_jobs=-1,\n",
    "                                        verbose=False, # 显示运行进度，算的慢让电脑跑着就行\n",
    "                                        return_train_score=True # 显示训练集的得分\n",
    "                                        )\n",
    "    return abs(validation_ada_tpe['test_score']).mean()"
   ]
  },
  {
   "cell_type": "code",
   "execution_count": 92,
   "id": "9728ad2a",
   "metadata": {},
   "outputs": [],
   "source": [
    "# 定义参数空间\n",
    "params = {'n_estimators':hp.quniform('n_estimators',1,300,1),\n",
    "          'learning_rate':hp.uniform('learning_rate',0.02,0.3),# 0.02,0.15；# 0.15,0.5\n",
    "          'loss':hp.choice('loss',['square', 'exponential'])# 'liner'\n",
    "          }"
   ]
  },
  {
   "cell_type": "code",
   "execution_count": 93,
   "id": "7ee500f9",
   "metadata": {},
   "outputs": [],
   "source": [
    "# 定义优化函数\n",
    "def params_hyperopt_adaboost(max_evals=100):\n",
    "    # 保存迭代过程\n",
    "    trials = Trials()\n",
    "    # 提前停止\n",
    "    early_stop_fn = no_progress_loss(2950) # 比较运行次数与提前停止阈值\n",
    "    # 定理代理模型\n",
    "    algo = partial(tpe.suggest, n_startup_jobs=20, n_EI_candidates=50)\n",
    "    best_params = fmin(hyperopt_objective_adaboost, # 目标函数\n",
    "                       space=params, # 参数空间\n",
    "                       algo=tpe.suggest, # 代理模型\n",
    "                       # 也可以选择随机网格搜索：algo=hyperopt.rand.suggest\n",
    "                       # algo=algo\n",
    "                       max_evals=max_evals,\n",
    "                       trials=trials,\n",
    "                       early_stop_fn=early_stop_fn,\n",
    "                       verbose=True # 显示运行进度，算的慢让电脑跑着就行\n",
    "                       )\n",
    "    # 打印最优参数，fmin会自动打印最佳分数\n",
    "    print('Best Params:',best_params)\n",
    "    return best_params, trials    "
   ]
  },
  {
   "cell_type": "code",
   "execution_count": 100,
   "id": "71adcc4e",
   "metadata": {
    "scrolled": true
   },
   "outputs": [
    {
     "name": "stdout",
     "output_type": "stream",
     "text": [
      "100%|████████████████████████████████████████████| 1000/1000 [15:09<00:00,  1.10trial/s, best loss: 0.4189651705619646]\n",
      "Best Params: {'learning_rate': 0.06831708585583224, 'loss': 0, 'n_estimators': 188.0}\n",
      "[0.4250109019857324, 0.4231937237176586, 0.42478807486486214, 0.4217079126659854, 0.4230047718434739, 0.42239683485356155, 0.4259432854249009, 0.42218555827927917, 0.42439544450404665, 0.42660147310046315]\n"
     ]
    }
   ],
   "source": [
    "# 运行优化\n",
    "best_params, trials = params_hyperopt_adaboost(1000)\n",
    "print(trials.losses()[:10]) # 保留十位小数"
   ]
  },
  {
   "cell_type": "code",
   "execution_count": 101,
   "id": "2b1cfc44",
   "metadata": {},
   "outputs": [],
   "source": [
    "# 添加大量的分类变量数据"
   ]
  },
  {
   "cell_type": "code",
   "execution_count": 90,
   "id": "4b6591ff",
   "metadata": {},
   "outputs": [],
   "source": [
    "# 无p_class,有j_class，（200，（0.2,0.3），30）"
   ]
  },
  {
   "cell_type": "code",
   "execution_count": null,
   "id": "68c68ff0",
   "metadata": {},
   "outputs": [],
   "source": [
    "# 100%|████████████████████████████████████████████████| 30/30 [00:11<00:00,  2.72trial/s, best loss: 0.4199883334288058]\n",
    "# Best Params: {'learning_rate': 0.12781586826418026, 'loss': 1, 'n_estimators': 132.0}\n",
    "# [0.42273514209277635, nan, 0.42421395378353494, 0.4219506587775352, 0.4224952469988262, 0.4210537041419348, nan, 0.42837160532799157, nan, nan]"
   ]
  },
  {
   "cell_type": "code",
   "execution_count": 1,
   "id": "634ab668",
   "metadata": {},
   "outputs": [],
   "source": [
    "# 这里会需要一定的时间跑出结果，跑不出来就稍微等一下"
   ]
  },
  {
   "cell_type": "markdown",
   "id": "02b99915",
   "metadata": {},
   "source": [
    "## 3.验证优化结果"
   ]
  },
  {
   "cell_type": "code",
   "execution_count": 106,
   "id": "1c773822",
   "metadata": {
    "scrolled": false
   },
   "outputs": [
    {
     "data": {
      "image/png": "[encoded data removed]",
      "text/plain": [
       "<Figure size 432x432 with 1 Axes>"
      ]
     },
     "metadata": {
      "needs_background": "light"
     },
     "output_type": "display_data"
    },
    {
     "name": "stdout",
     "output_type": "stream",
     "text": [
      "0.4034974374619679\n"
     ]
    }
   ],
   "source": [
    "# 验证优化结果\n",
    "base_estimators = DTR(max_depth=10, min_samples_split=10, min_samples_leaf=4, max_features=\"auto\", random_state = 0)\n",
    "# {'max_depth': 10,'max_features': 'auto','min_samples_leaf': 5,'min_samples_split': 2}\n",
    "adaboost = AdaBoostRegressor(base_estimator=base_estimators, \n",
    "                             n_estimators =188, # 这里添加优化过后的最优参数，#号替换数字\n",
    "                             learning_rate=0.06831708585583224, \n",
    "                             loss='square', # 'liner','square','exponential'\n",
    "                             random_state=0\n",
    "                             )\n",
    "cv = KFold(n_splits=5, shuffle=True, random_state=0) \n",
    "validation_ada_tpe = cross_validate(adaboost, standard_X_train, y_train,\n",
    "                                    scoring = 'neg_root_mean_squared_error', # 这里用均方根误差，对应上边square的loss rate\n",
    "                                    cv = cv,\n",
    "                                    n_jobs=-1,\n",
    "                                    verbose=False, # 显示运行进度，算的慢让电脑跑着就行\n",
    "                                    return_train_score=True # 显示训练集的得分\n",
    "                                    )\n",
    "# 交叉验证的可视化\n",
    "plt.figure(figsize = (6,6))\n",
    "plt.plot(range(1,6), validation_ada_tpe['train_score'], 'b-', label = 'train')\n",
    "plt.plot(range(1,6), validation_ada_tpe['test_score'], 'r--', label = 'test')\n",
    "plt.legend(loc='upper right')\n",
    "plt.title('基于Hyperopt实现TPE优化Adaboost')\n",
    "plt.tight_layout()\n",
    "plt.show()\n",
    "print(abs(validation_ada_tpe['test_score']).mean())\n"
   ]
  },
  {
   "cell_type": "markdown",
   "id": "f5cbea8a",
   "metadata": {},
   "source": [
    "## 87的MSE怎么说家人们"
   ]
  },
  {
   "cell_type": "code",
   "execution_count": 107,
   "id": "bbc20bc6",
   "metadata": {},
   "outputs": [
    {
     "data": {
      "text/plain": [
       "AdaBoostRegressor(base_estimator=DecisionTreeRegressor(max_depth=10,\n",
       "                                                       max_features='auto',\n",
       "                                                       min_samples_leaf=4,\n",
       "                                                       min_samples_split=10,\n",
       "                                                       random_state=0),\n",
       "                  learning_rate=0.06831708585583224, loss='square',\n",
       "                  n_estimators=188, random_state=0)"
      ]
     },
     "execution_count": 107,
     "metadata": {},
     "output_type": "execute_result"
    }
   ],
   "source": [
    "# 引入参数优化之后的AdaBoost回归模型\n",
    "base_estimators = DTR(max_depth=10, min_samples_split=10, min_samples_leaf=4, max_features=\"auto\", random_state = 0)\n",
    "# {'max_depth': 10,'max_features': 'auto','min_samples_leaf': 5,'min_samples_split': 2}\n",
    "adaboost = AdaBoostRegressor(base_estimator=base_estimators, \n",
    "                             n_estimators =188, # 这里添加优化过后的最优参数，#号替换数字\n",
    "                             learning_rate=0.06831708585583224, \n",
    "                             loss='square', # 'liner','square','exponential'\n",
    "                             random_state=0\n",
    "                             )\n",
    "# 在训练集上训练模型\n",
    "adaboost.fit(standard_X_train, y_train)"
   ]
  },
  {
   "cell_type": "code",
   "execution_count": 108,
   "id": "46de6c8e",
   "metadata": {
    "scrolled": true
   },
   "outputs": [
    {
     "data": {
      "image/png": "[encoded data removed]",
      "text/plain": [
       "<Figure size 576x864 with 1 Axes>"
      ]
     },
     "metadata": {
      "needs_background": "light"
     },
     "output_type": "display_data"
    }
   ],
   "source": [
    "# 特征值重要性\n",
    "importances = adaboost.feature_importances_\n",
    "weights = pd.Series(importances,\n",
    "                 index=X.columns.values)\n",
    "\n",
    "import matplotlib.pyplot as plt\n",
    "\n",
    "plt.figure(figsize=(8,12))\n",
    "plt.title('Feature Importances')\n",
    "weights.sort_values().plot(kind = 'barh')\n",
    "plt.xlabel('Relative Importance')\n",
    "plt.show()"
   ]
  },
  {
   "cell_type": "code",
   "execution_count": 109,
   "id": "32881a5d",
   "metadata": {
    "scrolled": true
   },
   "outputs": [
    {
     "data": {
      "text/plain": [
       "cclass_4           0.090769\n",
       "exp_5到10           0.084327\n",
       "ebenefit           0.078190\n",
       "cclass_3           0.067465\n",
       "edu_1              0.066763\n",
       "edu_3              0.054729\n",
       "exp_3到5            0.047513\n",
       "minsurance_1       0.045428\n",
       "jclass_6           0.044907\n",
       "senior_1           0.039084\n",
       "stack_1            0.037180\n",
       "size_10000人以上      0.035095\n",
       "cclass_2           0.033775\n",
       "fpe_1              0.031770\n",
       "edu_2              0.030744\n",
       "internet_1         0.022447\n",
       "jclass_9           0.020596\n",
       "jclass_8           0.017218\n",
       "exp_1到3            0.016198\n",
       "size_1000-9999人    0.016133\n",
       "size_20-99人        0.015696\n",
       "jclass_10          0.014811\n",
       "paleave_1          0.013544\n",
       "jclass_5           0.011184\n",
       "jclass_2           0.011048\n",
       "jclass_7           0.010222\n",
       "jclass_4           0.009552\n",
       "size_100-499人      0.009082\n",
       "size_500-999人      0.008756\n",
       "jclass_3           0.008013\n",
       "binsurance_1       0.007761\n",
       "dtype: float64"
      ]
     },
     "execution_count": 109,
     "metadata": {},
     "output_type": "execute_result"
    }
   ],
   "source": [
    "weights.sort_values(ascending = False) ## 从大到小排序重要性"
   ]
  },
  {
   "cell_type": "code",
   "execution_count": 110,
   "id": "cd57b2a6",
   "metadata": {
    "scrolled": false
   },
   "outputs": [
    {
     "name": "stdout",
     "output_type": "stream",
     "text": [
      "Accuracy: 0.633\n",
      "Mean Squared Error: 0.17224238847495515\n",
      "R-squared: 0.6331065940801269\n"
     ]
    }
   ],
   "source": [
    "# 评估模型\n",
    "from sklearn.metrics import mean_squared_error, r2_score\n",
    "y_pred = adaboost.predict(standard_X_test)\n",
    "test_accuracy = adaboost.score(standard_X_test,y_test)\n",
    "mse = mean_squared_error(y_test, y_pred)\n",
    "r2 = r2_score(y_test, y_pred)\n",
    "\n",
    "print(\"Accuracy:\", round(test_accuracy,3))\n",
    "print('Mean Squared Error:', mse)\n",
    "print('R-squared:', r2)"
   ]
  },
  {
   "cell_type": "code",
   "execution_count": 73,
   "id": "b6ccc603",
   "metadata": {},
   "outputs": [],
   "source": [
    "# Best Params: {'learning_rate'：0.06831708585583224, 'loss': 1, 'n_estimators': 188.0}\n",
    "# Accuracy: 0.701\n",
    "# Mean Squared Error: 0.13684517109400887\n",
    "# R-squared: 0.700588540010558"
   ]
  },
  {
   "cell_type": "code",
   "execution_count": 56,
   "id": "2f5ef579",
   "metadata": {},
   "outputs": [],
   "source": [
    "# 添加大量的分类变量数据"
   ]
  },
  {
   "cell_type": "markdown",
   "id": "379f36cb",
   "metadata": {},
   "source": [
    "## tpe寻找最优参数使mse在同一个量纲下缩小，达到拟合优化的效果\n",
    "## mse降低→R2提高"
   ]
  },
  {
   "cell_type": "code",
   "execution_count": null,
   "id": "f326395b",
   "metadata": {},
   "outputs": [],
   "source": [
    "# AdaBoost总结：改进后的回归工资的模型，回归出来的结果为： "
   ]
  },
  {
   "cell_type": "code",
   "execution_count": null,
   "id": "68b2693d",
   "metadata": {},
   "outputs": [],
   "source": [
    "# 无p_class\n",
    "# (n_estimators,learning_rate,迭代次数) = (300,(0.02,0.3),1000)\n",
    "# Best Params: {'learning_rate'：0.06831708585583224, 'loss': 1, 'n_estimators': 188.0}\n",
    "# Accuracy: 0.701\n",
    "# Mean Squared Error: 0.13684517109400887\n",
    "# R-squared: 0.700588540010558\n",
    "\n",
    "# 调参之后，相对于与原来默认值而言： \n",
    "# Accuracy: 0.654\n",
    "# Mean Squared Error: 0.15800143071262576\n",
    "# R-squared: 0.6542995366815756\n",
    "# 发生了改进，改进效果不错。"
   ]
  },
  {
   "cell_type": "markdown",
   "id": "ac4b90a8",
   "metadata": {},
   "source": [
    "## GBDT梯度提升树"
   ]
  },
  {
   "cell_type": "code",
   "execution_count": 19,
   "id": "883368ed",
   "metadata": {},
   "outputs": [],
   "source": [
    "from sklearn.ensemble import GradientBoostingRegressor as GBR\n",
    "from sklearn.metrics import mean_squared_error as MSE\n",
    "from sklearn.model_selection import KFold, cross_validate"
   ]
  },
  {
   "cell_type": "code",
   "execution_count": 20,
   "id": "7f71c627",
   "metadata": {
    "scrolled": false
   },
   "outputs": [
    {
     "name": "stderr",
     "output_type": "stream",
     "text": [
      "[Parallel(n_jobs=-1)]: Using backend LokyBackend with 8 concurrent workers.\n",
      "[Parallel(n_jobs=-1)]: Done   2 out of   5 | elapsed:    0.0s remaining:    0.1s\n",
      "[Parallel(n_jobs=-1)]: Done   5 out of   5 | elapsed:    0.0s finished\n"
     ]
    },
    {
     "name": "stdout",
     "output_type": "stream",
     "text": [
      "GradientBoosting的均方误差为： 0.387644813271632\n"
     ]
    },
    {
     "data": {
      "image/png": "[encoded data removed]",
      "text/plain": [
       "<Figure size 432x432 with 1 Axes>"
      ]
     },
     "metadata": {
      "needs_background": "light"
     },
     "output_type": "display_data"
    }
   ],
   "source": [
    "# GradientBoostingRegressor梯度提升树，更广泛的参数学习空间\n",
    "# 引入GradientBoostingRegressor\n",
    "gbr = GBR(random_state= 0 )\n",
    "\n",
    "# 设置cv参数，5折交叉验证\n",
    "cv = KFold(n_splits=5,random_state=0, shuffle=True)\n",
    "\n",
    "#  交叉验证的评判指标建立\n",
    "validation_gbr = cross_validate(gbr,standard_X_train, y_train,\n",
    "                                scoring='neg_root_mean_squared_error',\n",
    "                                cv=cv,\n",
    "                                n_jobs=-1,\n",
    "                                verbose=True,\n",
    "                                return_train_score=True\n",
    "                                )\n",
    "print('GradientBoosting的均方误差为：', abs(validation_gbr['test_score']).mean())\n",
    "\n",
    "# 交叉验证的可视化\n",
    "plt.figure(figsize = (6,6))\n",
    "plt.plot(range(1,6),validation_gbr['train_score'],'b-',label='train')\n",
    "plt.plot(range(1,6),validation_gbr['test_score'],'r--',label='test')\n",
    "plt.legend(loc=1)\n",
    "plt.title('The MSE of GBDT')\n",
    "plt.tight_layout()\n",
    "plt.show()"
   ]
  },
  {
   "cell_type": "code",
   "execution_count": null,
   "id": "b88a17a2",
   "metadata": {},
   "outputs": [],
   "source": [
    "# GradientBoosting的均方误差为： 0.387644813271632"
   ]
  },
  {
   "cell_type": "markdown",
   "id": "721009c2",
   "metadata": {},
   "source": [
    "## 1.基于Hyperopt实现TPE优化GBDT"
   ]
  },
  {
   "cell_type": "code",
   "execution_count": 16,
   "id": "d9c4d5da",
   "metadata": {
    "scrolled": true
   },
   "outputs": [
    {
     "name": "stderr",
     "output_type": "stream",
     "text": [
      "[Parallel(n_jobs=-1)]: Using backend LokyBackend with 8 concurrent workers.\n",
      "[Parallel(n_jobs=-1)]: Done   2 out of   5 | elapsed:    0.0s remaining:    0.1s\n",
      "[Parallel(n_jobs=-1)]: Done   5 out of   5 | elapsed:    0.0s finished\n",
      "[Parallel(n_jobs=-1)]: Using backend LokyBackend with 8 concurrent workers.\n",
      "[Parallel(n_jobs=-1)]: Done   2 out of   5 | elapsed:    0.0s remaining:    0.1s\n",
      "[Parallel(n_jobs=-1)]: Done   5 out of   5 | elapsed:    0.0s finished\n",
      "[Parallel(n_jobs=-1)]: Using backend LokyBackend with 8 concurrent workers.\n",
      "[Parallel(n_jobs=-1)]: Done   2 out of   5 | elapsed:    0.0s remaining:    0.1s\n",
      "[Parallel(n_jobs=-1)]: Done   5 out of   5 | elapsed:    0.0s finished\n",
      "[Parallel(n_jobs=-1)]: Using backend LokyBackend with 8 concurrent workers.\n",
      "[Parallel(n_jobs=-1)]: Done   2 out of   5 | elapsed:    0.0s remaining:    0.1s\n",
      "[Parallel(n_jobs=-1)]: Done   5 out of   5 | elapsed:    0.0s finished\n",
      "[Parallel(n_jobs=-1)]: Using backend LokyBackend with 8 concurrent workers.\n",
      "[Parallel(n_jobs=-1)]: Done   2 out of   5 | elapsed:    0.0s remaining:    0.1s\n",
      "[Parallel(n_jobs=-1)]: Done   5 out of   5 | elapsed:    0.0s finished\n",
      "[Parallel(n_jobs=-1)]: Using backend LokyBackend with 8 concurrent workers.\n",
      "[Parallel(n_jobs=-1)]: Done   2 out of   5 | elapsed:    0.0s remaining:    0.1s\n",
      "[Parallel(n_jobs=-1)]: Done   5 out of   5 | elapsed:    0.0s finished\n",
      "[Parallel(n_jobs=-1)]: Using backend LokyBackend with 8 concurrent workers.\n",
      "[Parallel(n_jobs=-1)]: Done   2 out of   5 | elapsed:    0.0s remaining:    0.1s\n",
      "[Parallel(n_jobs=-1)]: Done   5 out of   5 | elapsed:    0.0s finished\n",
      "[Parallel(n_jobs=-1)]: Using backend LokyBackend with 8 concurrent workers.\n",
      "[Parallel(n_jobs=-1)]: Done   2 out of   5 | elapsed:    0.0s remaining:    0.1s\n",
      "[Parallel(n_jobs=-1)]: Done   5 out of   5 | elapsed:    0.0s finished\n",
      "[Parallel(n_jobs=-1)]: Using backend LokyBackend with 8 concurrent workers.\n",
      "[Parallel(n_jobs=-1)]: Done   2 out of   5 | elapsed:    0.0s remaining:    0.1s\n",
      "[Parallel(n_jobs=-1)]: Done   5 out of   5 | elapsed:    0.0s finished\n",
      "[Parallel(n_jobs=-1)]: Using backend LokyBackend with 8 concurrent workers.\n",
      "[Parallel(n_jobs=-1)]: Done   2 out of   5 | elapsed:    0.0s remaining:    0.1s\n",
      "[Parallel(n_jobs=-1)]: Done   5 out of   5 | elapsed:    0.0s finished\n",
      "[Parallel(n_jobs=-1)]: Using backend LokyBackend with 8 concurrent workers.\n",
      "[Parallel(n_jobs=-1)]: Done   2 out of   5 | elapsed:    0.0s remaining:    0.1s\n",
      "[Parallel(n_jobs=-1)]: Done   5 out of   5 | elapsed:    0.0s finished\n",
      "[Parallel(n_jobs=-1)]: Using backend LokyBackend with 8 concurrent workers.\n",
      "[Parallel(n_jobs=-1)]: Done   2 out of   5 | elapsed:    0.0s remaining:    0.1s\n",
      "[Parallel(n_jobs=-1)]: Done   5 out of   5 | elapsed:    0.0s finished\n",
      "[Parallel(n_jobs=-1)]: Using backend LokyBackend with 8 concurrent workers.\n",
      "[Parallel(n_jobs=-1)]: Done   2 out of   5 | elapsed:    0.0s remaining:    0.1s\n",
      "[Parallel(n_jobs=-1)]: Done   5 out of   5 | elapsed:    0.0s finished\n",
      "[Parallel(n_jobs=-1)]: Using backend LokyBackend with 8 concurrent workers.\n",
      "[Parallel(n_jobs=-1)]: Done   2 out of   5 | elapsed:    0.0s remaining:    0.1s\n",
      "[Parallel(n_jobs=-1)]: Done   5 out of   5 | elapsed:    0.0s finished\n",
      "[Parallel(n_jobs=-1)]: Using backend LokyBackend with 8 concurrent workers.\n",
      "[Parallel(n_jobs=-1)]: Done   2 out of   5 | elapsed:    0.0s remaining:    0.1s\n",
      "[Parallel(n_jobs=-1)]: Done   5 out of   5 | elapsed:    0.0s finished\n",
      "[Parallel(n_jobs=-1)]: Using backend LokyBackend with 8 concurrent workers.\n",
      "[Parallel(n_jobs=-1)]: Done   2 out of   5 | elapsed:    0.0s remaining:    0.1s\n",
      "[Parallel(n_jobs=-1)]: Done   5 out of   5 | elapsed:    0.0s finished\n",
      "[Parallel(n_jobs=-1)]: Using backend LokyBackend with 8 concurrent workers.\n",
      "[Parallel(n_jobs=-1)]: Done   2 out of   5 | elapsed:    0.0s remaining:    0.1s\n",
      "[Parallel(n_jobs=-1)]: Done   5 out of   5 | elapsed:    0.0s finished\n",
      "[Parallel(n_jobs=-1)]: Using backend LokyBackend with 8 concurrent workers.\n",
      "[Parallel(n_jobs=-1)]: Done   2 out of   5 | elapsed:    0.0s remaining:    0.1s\n",
      "[Parallel(n_jobs=-1)]: Done   5 out of   5 | elapsed:    0.0s finished\n",
      "[Parallel(n_jobs=-1)]: Using backend LokyBackend with 8 concurrent workers.\n",
      "[Parallel(n_jobs=-1)]: Done   2 out of   5 | elapsed:    0.0s remaining:    0.1s\n",
      "[Parallel(n_jobs=-1)]: Done   5 out of   5 | elapsed:    0.0s finished\n",
      "[Parallel(n_jobs=-1)]: Using backend LokyBackend with 8 concurrent workers.\n",
      "[Parallel(n_jobs=-1)]: Done   2 out of   5 | elapsed:    0.0s remaining:    0.1s\n",
      "[Parallel(n_jobs=-1)]: Done   5 out of   5 | elapsed:    0.0s finished\n",
      "[Parallel(n_jobs=-1)]: Using backend LokyBackend with 8 concurrent workers.\n",
      "[Parallel(n_jobs=-1)]: Done   2 out of   5 | elapsed:    0.0s remaining:    0.1s\n",
      "[Parallel(n_jobs=-1)]: Done   5 out of   5 | elapsed:    0.0s finished\n",
      "[Parallel(n_jobs=-1)]: Using backend LokyBackend with 8 concurrent workers.\n",
      "[Parallel(n_jobs=-1)]: Done   2 out of   5 | elapsed:    0.0s remaining:    0.1s\n",
      "[Parallel(n_jobs=-1)]: Done   5 out of   5 | elapsed:    0.0s finished\n",
      "[Parallel(n_jobs=-1)]: Using backend LokyBackend with 8 concurrent workers.\n",
      "[Parallel(n_jobs=-1)]: Done   2 out of   5 | elapsed:    0.0s remaining:    0.1s\n",
      "[Parallel(n_jobs=-1)]: Done   5 out of   5 | elapsed:    0.0s finished\n",
      "[Parallel(n_jobs=-1)]: Using backend LokyBackend with 8 concurrent workers.\n",
      "[Parallel(n_jobs=-1)]: Done   2 out of   5 | elapsed:    0.0s remaining:    0.1s\n",
      "[Parallel(n_jobs=-1)]: Done   5 out of   5 | elapsed:    0.0s finished\n",
      "[Parallel(n_jobs=-1)]: Using backend LokyBackend with 8 concurrent workers.\n",
      "[Parallel(n_jobs=-1)]: Done   2 out of   5 | elapsed:    0.0s remaining:    0.1s\n",
      "[Parallel(n_jobs=-1)]: Done   5 out of   5 | elapsed:    0.0s finished\n",
      "[Parallel(n_jobs=-1)]: Using backend LokyBackend with 8 concurrent workers.\n",
      "[Parallel(n_jobs=-1)]: Done   2 out of   5 | elapsed:    0.0s remaining:    0.1s\n",
      "[Parallel(n_jobs=-1)]: Done   5 out of   5 | elapsed:    0.0s finished\n",
      "[Parallel(n_jobs=-1)]: Using backend LokyBackend with 8 concurrent workers.\n",
      "[Parallel(n_jobs=-1)]: Done   2 out of   5 | elapsed:    0.0s remaining:    0.1s\n",
      "[Parallel(n_jobs=-1)]: Done   5 out of   5 | elapsed:    0.0s finished\n",
      "[Parallel(n_jobs=-1)]: Using backend LokyBackend with 8 concurrent workers.\n",
      "[Parallel(n_jobs=-1)]: Done   2 out of   5 | elapsed:    0.0s remaining:    0.1s\n",
      "[Parallel(n_jobs=-1)]: Done   5 out of   5 | elapsed:    0.0s finished\n",
      "[Parallel(n_jobs=-1)]: Using backend LokyBackend with 8 concurrent workers.\n",
      "[Parallel(n_jobs=-1)]: Done   2 out of   5 | elapsed:    0.0s remaining:    0.1s\n",
      "[Parallel(n_jobs=-1)]: Done   5 out of   5 | elapsed:    0.0s finished\n",
      "[Parallel(n_jobs=-1)]: Using backend LokyBackend with 8 concurrent workers.\n",
      "[Parallel(n_jobs=-1)]: Done   2 out of   5 | elapsed:    0.0s remaining:    0.1s\n",
      "[Parallel(n_jobs=-1)]: Done   5 out of   5 | elapsed:    0.0s finished\n",
      "[Parallel(n_jobs=-1)]: Using backend LokyBackend with 8 concurrent workers.\n",
      "[Parallel(n_jobs=-1)]: Done   2 out of   5 | elapsed:    0.0s remaining:    0.1s\n",
      "[Parallel(n_jobs=-1)]: Done   5 out of   5 | elapsed:    0.0s finished\n",
      "[Parallel(n_jobs=-1)]: Using backend LokyBackend with 8 concurrent workers.\n",
      "[Parallel(n_jobs=-1)]: Done   2 out of   5 | elapsed:    0.0s remaining:    0.1s\n",
      "[Parallel(n_jobs=-1)]: Done   5 out of   5 | elapsed:    0.0s finished\n",
      "[Parallel(n_jobs=-1)]: Using backend LokyBackend with 8 concurrent workers.\n",
      "[Parallel(n_jobs=-1)]: Done   2 out of   5 | elapsed:    0.0s remaining:    0.1s\n",
      "[Parallel(n_jobs=-1)]: Done   5 out of   5 | elapsed:    0.0s finished\n",
      "[Parallel(n_jobs=-1)]: Using backend LokyBackend with 8 concurrent workers.\n",
      "[Parallel(n_jobs=-1)]: Done   2 out of   5 | elapsed:    0.0s remaining:    0.1s\n",
      "[Parallel(n_jobs=-1)]: Done   5 out of   5 | elapsed:    0.0s finished\n",
      "[Parallel(n_jobs=-1)]: Using backend LokyBackend with 8 concurrent workers.\n",
      "[Parallel(n_jobs=-1)]: Done   2 out of   5 | elapsed:    0.0s remaining:    0.1s\n",
      "[Parallel(n_jobs=-1)]: Done   5 out of   5 | elapsed:    0.0s finished\n",
      "[Parallel(n_jobs=-1)]: Using backend LokyBackend with 8 concurrent workers.\n",
      "[Parallel(n_jobs=-1)]: Done   2 out of   5 | elapsed:    0.0s remaining:    0.1s\n",
      "[Parallel(n_jobs=-1)]: Done   5 out of   5 | elapsed:    0.0s finished\n",
      "[Parallel(n_jobs=-1)]: Using backend LokyBackend with 8 concurrent workers.\n"
     ]
    },
    {
     "name": "stderr",
     "output_type": "stream",
     "text": [
      "[Parallel(n_jobs=-1)]: Done   2 out of   5 | elapsed:    0.0s remaining:    0.1s\n",
      "[Parallel(n_jobs=-1)]: Done   5 out of   5 | elapsed:    0.0s finished\n",
      "[Parallel(n_jobs=-1)]: Using backend LokyBackend with 8 concurrent workers.\n",
      "[Parallel(n_jobs=-1)]: Done   2 out of   5 | elapsed:    0.0s remaining:    0.1s\n",
      "[Parallel(n_jobs=-1)]: Done   5 out of   5 | elapsed:    0.0s finished\n",
      "[Parallel(n_jobs=-1)]: Using backend LokyBackend with 8 concurrent workers.\n",
      "[Parallel(n_jobs=-1)]: Done   2 out of   5 | elapsed:    0.0s remaining:    0.1s\n",
      "[Parallel(n_jobs=-1)]: Done   5 out of   5 | elapsed:    0.0s finished\n",
      "[Parallel(n_jobs=-1)]: Using backend LokyBackend with 8 concurrent workers.\n",
      "[Parallel(n_jobs=-1)]: Done   2 out of   5 | elapsed:    0.0s remaining:    0.1s\n",
      "[Parallel(n_jobs=-1)]: Done   5 out of   5 | elapsed:    0.0s finished\n",
      "[Parallel(n_jobs=-1)]: Using backend LokyBackend with 8 concurrent workers.\n",
      "[Parallel(n_jobs=-1)]: Done   2 out of   5 | elapsed:    0.0s remaining:    0.1s\n",
      "[Parallel(n_jobs=-1)]: Done   5 out of   5 | elapsed:    0.0s finished\n",
      "[Parallel(n_jobs=-1)]: Using backend LokyBackend with 8 concurrent workers.\n",
      "[Parallel(n_jobs=-1)]: Done   2 out of   5 | elapsed:    0.0s remaining:    0.1s\n",
      "[Parallel(n_jobs=-1)]: Done   5 out of   5 | elapsed:    0.0s finished\n",
      "[Parallel(n_jobs=-1)]: Using backend LokyBackend with 8 concurrent workers.\n",
      "[Parallel(n_jobs=-1)]: Done   2 out of   5 | elapsed:    0.0s remaining:    0.1s\n",
      "[Parallel(n_jobs=-1)]: Done   5 out of   5 | elapsed:    0.0s finished\n",
      "[Parallel(n_jobs=-1)]: Using backend LokyBackend with 8 concurrent workers.\n",
      "[Parallel(n_jobs=-1)]: Done   2 out of   5 | elapsed:    0.0s remaining:    0.1s\n",
      "[Parallel(n_jobs=-1)]: Done   5 out of   5 | elapsed:    0.0s finished\n",
      "[Parallel(n_jobs=-1)]: Using backend LokyBackend with 8 concurrent workers.\n",
      "[Parallel(n_jobs=-1)]: Done   2 out of   5 | elapsed:    0.0s remaining:    0.1s\n",
      "[Parallel(n_jobs=-1)]: Done   5 out of   5 | elapsed:    0.0s finished\n",
      "[Parallel(n_jobs=-1)]: Using backend LokyBackend with 8 concurrent workers.\n",
      "[Parallel(n_jobs=-1)]: Done   2 out of   5 | elapsed:    0.0s remaining:    0.1s\n",
      "[Parallel(n_jobs=-1)]: Done   5 out of   5 | elapsed:    0.0s finished\n",
      "[Parallel(n_jobs=-1)]: Using backend LokyBackend with 8 concurrent workers.\n",
      "[Parallel(n_jobs=-1)]: Done   2 out of   5 | elapsed:    0.0s remaining:    0.1s\n",
      "[Parallel(n_jobs=-1)]: Done   5 out of   5 | elapsed:    0.0s finished\n",
      "[Parallel(n_jobs=-1)]: Using backend LokyBackend with 8 concurrent workers.\n",
      "[Parallel(n_jobs=-1)]: Done   2 out of   5 | elapsed:    0.0s remaining:    0.1s\n",
      "[Parallel(n_jobs=-1)]: Done   5 out of   5 | elapsed:    0.0s finished\n",
      "[Parallel(n_jobs=-1)]: Using backend LokyBackend with 8 concurrent workers.\n",
      "[Parallel(n_jobs=-1)]: Done   2 out of   5 | elapsed:    0.0s remaining:    0.1s\n",
      "[Parallel(n_jobs=-1)]: Done   5 out of   5 | elapsed:    0.0s finished\n",
      "[Parallel(n_jobs=-1)]: Using backend LokyBackend with 8 concurrent workers.\n",
      "[Parallel(n_jobs=-1)]: Done   2 out of   5 | elapsed:    0.0s remaining:    0.1s\n",
      "[Parallel(n_jobs=-1)]: Done   5 out of   5 | elapsed:    0.0s finished\n",
      "[Parallel(n_jobs=-1)]: Using backend LokyBackend with 8 concurrent workers.\n",
      "[Parallel(n_jobs=-1)]: Done   2 out of   5 | elapsed:    0.0s remaining:    0.1s\n",
      "[Parallel(n_jobs=-1)]: Done   5 out of   5 | elapsed:    0.0s finished\n",
      "[Parallel(n_jobs=-1)]: Using backend LokyBackend with 8 concurrent workers.\n",
      "[Parallel(n_jobs=-1)]: Done   2 out of   5 | elapsed:    0.0s remaining:    0.1s\n",
      "[Parallel(n_jobs=-1)]: Done   5 out of   5 | elapsed:    0.0s finished\n",
      "[Parallel(n_jobs=-1)]: Using backend LokyBackend with 8 concurrent workers.\n",
      "[Parallel(n_jobs=-1)]: Done   2 out of   5 | elapsed:    0.0s remaining:    0.1s\n",
      "[Parallel(n_jobs=-1)]: Done   5 out of   5 | elapsed:    0.0s finished\n",
      "[Parallel(n_jobs=-1)]: Using backend LokyBackend with 8 concurrent workers.\n",
      "[Parallel(n_jobs=-1)]: Done   2 out of   5 | elapsed:    0.0s remaining:    0.1s\n",
      "[Parallel(n_jobs=-1)]: Done   5 out of   5 | elapsed:    0.0s finished\n",
      "[Parallel(n_jobs=-1)]: Using backend LokyBackend with 8 concurrent workers.\n",
      "[Parallel(n_jobs=-1)]: Done   2 out of   5 | elapsed:    0.0s remaining:    0.1s\n",
      "[Parallel(n_jobs=-1)]: Done   5 out of   5 | elapsed:    0.0s finished\n",
      "[Parallel(n_jobs=-1)]: Using backend LokyBackend with 8 concurrent workers.\n",
      "[Parallel(n_jobs=-1)]: Done   2 out of   5 | elapsed:    0.0s remaining:    0.1s\n",
      "[Parallel(n_jobs=-1)]: Done   5 out of   5 | elapsed:    0.0s finished\n",
      "[Parallel(n_jobs=-1)]: Using backend LokyBackend with 8 concurrent workers.\n",
      "[Parallel(n_jobs=-1)]: Done   2 out of   5 | elapsed:    0.0s remaining:    0.1s\n",
      "[Parallel(n_jobs=-1)]: Done   5 out of   5 | elapsed:    0.0s finished\n",
      "[Parallel(n_jobs=-1)]: Using backend LokyBackend with 8 concurrent workers.\n",
      "[Parallel(n_jobs=-1)]: Done   2 out of   5 | elapsed:    0.0s remaining:    0.1s\n",
      "[Parallel(n_jobs=-1)]: Done   5 out of   5 | elapsed:    0.0s finished\n",
      "[Parallel(n_jobs=-1)]: Using backend LokyBackend with 8 concurrent workers.\n",
      "[Parallel(n_jobs=-1)]: Done   2 out of   5 | elapsed:    0.0s remaining:    0.1s\n",
      "[Parallel(n_jobs=-1)]: Done   5 out of   5 | elapsed:    0.0s finished\n",
      "[Parallel(n_jobs=-1)]: Using backend LokyBackend with 8 concurrent workers.\n",
      "[Parallel(n_jobs=-1)]: Done   2 out of   5 | elapsed:    0.0s remaining:    0.1s\n",
      "[Parallel(n_jobs=-1)]: Done   5 out of   5 | elapsed:    0.0s finished\n",
      "[Parallel(n_jobs=-1)]: Using backend LokyBackend with 8 concurrent workers.\n",
      "[Parallel(n_jobs=-1)]: Done   2 out of   5 | elapsed:    0.0s remaining:    0.1s\n",
      "[Parallel(n_jobs=-1)]: Done   5 out of   5 | elapsed:    0.0s finished\n",
      "[Parallel(n_jobs=-1)]: Using backend LokyBackend with 8 concurrent workers.\n",
      "[Parallel(n_jobs=-1)]: Done   2 out of   5 | elapsed:    0.0s remaining:    0.1s\n",
      "[Parallel(n_jobs=-1)]: Done   5 out of   5 | elapsed:    0.0s finished\n",
      "[Parallel(n_jobs=-1)]: Using backend LokyBackend with 8 concurrent workers.\n",
      "[Parallel(n_jobs=-1)]: Done   2 out of   5 | elapsed:    0.0s remaining:    0.1s\n",
      "[Parallel(n_jobs=-1)]: Done   5 out of   5 | elapsed:    0.0s finished\n",
      "[Parallel(n_jobs=-1)]: Using backend LokyBackend with 8 concurrent workers.\n",
      "[Parallel(n_jobs=-1)]: Done   2 out of   5 | elapsed:    0.0s remaining:    0.1s\n",
      "[Parallel(n_jobs=-1)]: Done   5 out of   5 | elapsed:    0.0s finished\n",
      "[Parallel(n_jobs=-1)]: Using backend LokyBackend with 8 concurrent workers.\n",
      "[Parallel(n_jobs=-1)]: Done   2 out of   5 | elapsed:    0.0s remaining:    0.1s\n",
      "[Parallel(n_jobs=-1)]: Done   5 out of   5 | elapsed:    0.0s finished\n",
      "[Parallel(n_jobs=-1)]: Using backend LokyBackend with 8 concurrent workers.\n",
      "[Parallel(n_jobs=-1)]: Done   2 out of   5 | elapsed:    0.0s remaining:    0.1s\n",
      "[Parallel(n_jobs=-1)]: Done   5 out of   5 | elapsed:    0.0s finished\n",
      "[Parallel(n_jobs=-1)]: Using backend LokyBackend with 8 concurrent workers.\n",
      "[Parallel(n_jobs=-1)]: Done   2 out of   5 | elapsed:    0.0s remaining:    0.1s\n",
      "[Parallel(n_jobs=-1)]: Done   5 out of   5 | elapsed:    0.0s finished\n",
      "[Parallel(n_jobs=-1)]: Using backend LokyBackend with 8 concurrent workers.\n",
      "[Parallel(n_jobs=-1)]: Done   2 out of   5 | elapsed:    0.0s remaining:    0.1s\n",
      "[Parallel(n_jobs=-1)]: Done   5 out of   5 | elapsed:    0.0s finished\n",
      "[Parallel(n_jobs=-1)]: Using backend LokyBackend with 8 concurrent workers.\n",
      "[Parallel(n_jobs=-1)]: Done   2 out of   5 | elapsed:    0.0s remaining:    0.1s\n",
      "[Parallel(n_jobs=-1)]: Done   5 out of   5 | elapsed:    0.0s finished\n",
      "[Parallel(n_jobs=-1)]: Using backend LokyBackend with 8 concurrent workers.\n",
      "[Parallel(n_jobs=-1)]: Done   2 out of   5 | elapsed:    0.0s remaining:    0.1s\n",
      "[Parallel(n_jobs=-1)]: Done   5 out of   5 | elapsed:    0.0s finished\n",
      "[Parallel(n_jobs=-1)]: Using backend LokyBackend with 8 concurrent workers.\n",
      "[Parallel(n_jobs=-1)]: Done   2 out of   5 | elapsed:    0.0s remaining:    0.1s\n",
      "[Parallel(n_jobs=-1)]: Done   5 out of   5 | elapsed:    0.0s finished\n",
      "[Parallel(n_jobs=-1)]: Using backend LokyBackend with 8 concurrent workers.\n",
      "[Parallel(n_jobs=-1)]: Done   2 out of   5 | elapsed:    0.0s remaining:    0.1s\n",
      "[Parallel(n_jobs=-1)]: Done   5 out of   5 | elapsed:    0.0s finished\n",
      "[Parallel(n_jobs=-1)]: Using backend LokyBackend with 8 concurrent workers.\n"
     ]
    },
    {
     "name": "stderr",
     "output_type": "stream",
     "text": [
      "[Parallel(n_jobs=-1)]: Done   2 out of   5 | elapsed:    0.0s remaining:    0.1s\n",
      "[Parallel(n_jobs=-1)]: Done   5 out of   5 | elapsed:    0.0s finished\n",
      "[Parallel(n_jobs=-1)]: Using backend LokyBackend with 8 concurrent workers.\n",
      "[Parallel(n_jobs=-1)]: Done   2 out of   5 | elapsed:    0.0s remaining:    0.1s\n",
      "[Parallel(n_jobs=-1)]: Done   5 out of   5 | elapsed:    0.0s finished\n",
      "[Parallel(n_jobs=-1)]: Using backend LokyBackend with 8 concurrent workers.\n",
      "[Parallel(n_jobs=-1)]: Done   2 out of   5 | elapsed:    0.0s remaining:    0.1s\n",
      "[Parallel(n_jobs=-1)]: Done   5 out of   5 | elapsed:    0.0s finished\n",
      "[Parallel(n_jobs=-1)]: Using backend LokyBackend with 8 concurrent workers.\n",
      "[Parallel(n_jobs=-1)]: Done   2 out of   5 | elapsed:    0.0s remaining:    0.1s\n",
      "[Parallel(n_jobs=-1)]: Done   5 out of   5 | elapsed:    0.0s finished\n",
      "[Parallel(n_jobs=-1)]: Using backend LokyBackend with 8 concurrent workers.\n",
      "[Parallel(n_jobs=-1)]: Done   2 out of   5 | elapsed:    0.0s remaining:    0.1s\n",
      "[Parallel(n_jobs=-1)]: Done   5 out of   5 | elapsed:    0.0s finished\n",
      "[Parallel(n_jobs=-1)]: Using backend LokyBackend with 8 concurrent workers.\n",
      "[Parallel(n_jobs=-1)]: Done   2 out of   5 | elapsed:    0.0s remaining:    0.1s\n",
      "[Parallel(n_jobs=-1)]: Done   5 out of   5 | elapsed:    0.0s finished\n",
      "[Parallel(n_jobs=-1)]: Using backend LokyBackend with 8 concurrent workers.\n",
      "[Parallel(n_jobs=-1)]: Done   2 out of   5 | elapsed:    0.0s remaining:    0.1s\n",
      "[Parallel(n_jobs=-1)]: Done   5 out of   5 | elapsed:    0.0s finished\n",
      "[Parallel(n_jobs=-1)]: Using backend LokyBackend with 8 concurrent workers.\n",
      "[Parallel(n_jobs=-1)]: Done   2 out of   5 | elapsed:    0.0s remaining:    0.1s\n",
      "[Parallel(n_jobs=-1)]: Done   5 out of   5 | elapsed:    0.0s finished\n",
      "[Parallel(n_jobs=-1)]: Using backend LokyBackend with 8 concurrent workers.\n",
      "[Parallel(n_jobs=-1)]: Done   2 out of   5 | elapsed:    0.0s remaining:    0.1s\n",
      "[Parallel(n_jobs=-1)]: Done   5 out of   5 | elapsed:    0.0s finished\n",
      "[Parallel(n_jobs=-1)]: Using backend LokyBackend with 8 concurrent workers.\n",
      "[Parallel(n_jobs=-1)]: Done   2 out of   5 | elapsed:    0.0s remaining:    0.1s\n",
      "[Parallel(n_jobs=-1)]: Done   5 out of   5 | elapsed:    0.0s finished\n",
      "[Parallel(n_jobs=-1)]: Using backend LokyBackend with 8 concurrent workers.\n",
      "[Parallel(n_jobs=-1)]: Done   2 out of   5 | elapsed:    0.0s remaining:    0.1s\n",
      "[Parallel(n_jobs=-1)]: Done   5 out of   5 | elapsed:    0.0s finished\n",
      "[Parallel(n_jobs=-1)]: Using backend LokyBackend with 8 concurrent workers.\n",
      "[Parallel(n_jobs=-1)]: Done   2 out of   5 | elapsed:    0.0s remaining:    0.1s\n",
      "[Parallel(n_jobs=-1)]: Done   5 out of   5 | elapsed:    0.0s finished\n",
      "[Parallel(n_jobs=-1)]: Using backend LokyBackend with 8 concurrent workers.\n",
      "[Parallel(n_jobs=-1)]: Done   2 out of   5 | elapsed:    0.0s remaining:    0.1s\n",
      "[Parallel(n_jobs=-1)]: Done   5 out of   5 | elapsed:    0.0s finished\n",
      "[Parallel(n_jobs=-1)]: Using backend LokyBackend with 8 concurrent workers.\n",
      "[Parallel(n_jobs=-1)]: Done   2 out of   5 | elapsed:    0.0s remaining:    0.1s\n",
      "[Parallel(n_jobs=-1)]: Done   5 out of   5 | elapsed:    0.0s finished\n",
      "[Parallel(n_jobs=-1)]: Using backend LokyBackend with 8 concurrent workers.\n",
      "[Parallel(n_jobs=-1)]: Done   2 out of   5 | elapsed:    0.0s remaining:    0.1s\n",
      "[Parallel(n_jobs=-1)]: Done   5 out of   5 | elapsed:    0.0s finished\n",
      "[Parallel(n_jobs=-1)]: Using backend LokyBackend with 8 concurrent workers.\n",
      "[Parallel(n_jobs=-1)]: Done   2 out of   5 | elapsed:    0.0s remaining:    0.1s\n",
      "[Parallel(n_jobs=-1)]: Done   5 out of   5 | elapsed:    0.0s finished\n",
      "[Parallel(n_jobs=-1)]: Using backend LokyBackend with 8 concurrent workers.\n",
      "[Parallel(n_jobs=-1)]: Done   2 out of   5 | elapsed:    0.0s remaining:    0.1s\n",
      "[Parallel(n_jobs=-1)]: Done   5 out of   5 | elapsed:    0.0s finished\n",
      "[Parallel(n_jobs=-1)]: Using backend LokyBackend with 8 concurrent workers.\n",
      "[Parallel(n_jobs=-1)]: Done   2 out of   5 | elapsed:    0.0s remaining:    0.1s\n",
      "[Parallel(n_jobs=-1)]: Done   5 out of   5 | elapsed:    0.0s finished\n",
      "[Parallel(n_jobs=-1)]: Using backend LokyBackend with 8 concurrent workers.\n",
      "[Parallel(n_jobs=-1)]: Done   2 out of   5 | elapsed:    0.0s remaining:    0.1s\n",
      "[Parallel(n_jobs=-1)]: Done   5 out of   5 | elapsed:    0.0s finished\n",
      "[Parallel(n_jobs=-1)]: Using backend LokyBackend with 8 concurrent workers.\n",
      "[Parallel(n_jobs=-1)]: Done   2 out of   5 | elapsed:    0.0s remaining:    0.1s\n",
      "[Parallel(n_jobs=-1)]: Done   5 out of   5 | elapsed:    0.0s finished\n",
      "[Parallel(n_jobs=-1)]: Using backend LokyBackend with 8 concurrent workers.\n",
      "[Parallel(n_jobs=-1)]: Done   2 out of   5 | elapsed:    0.0s remaining:    0.1s\n",
      "[Parallel(n_jobs=-1)]: Done   5 out of   5 | elapsed:    0.0s finished\n",
      "[Parallel(n_jobs=-1)]: Using backend LokyBackend with 8 concurrent workers.\n",
      "[Parallel(n_jobs=-1)]: Done   2 out of   5 | elapsed:    0.0s remaining:    0.1s\n",
      "[Parallel(n_jobs=-1)]: Done   5 out of   5 | elapsed:    0.0s finished\n",
      "[Parallel(n_jobs=-1)]: Using backend LokyBackend with 8 concurrent workers.\n",
      "[Parallel(n_jobs=-1)]: Done   2 out of   5 | elapsed:    0.0s remaining:    0.1s\n",
      "[Parallel(n_jobs=-1)]: Done   5 out of   5 | elapsed:    0.0s finished\n",
      "[Parallel(n_jobs=-1)]: Using backend LokyBackend with 8 concurrent workers.\n",
      "[Parallel(n_jobs=-1)]: Done   2 out of   5 | elapsed:    0.0s remaining:    0.1s\n",
      "[Parallel(n_jobs=-1)]: Done   5 out of   5 | elapsed:    0.0s finished\n",
      "[Parallel(n_jobs=-1)]: Using backend LokyBackend with 8 concurrent workers.\n",
      "[Parallel(n_jobs=-1)]: Done   2 out of   5 | elapsed:    0.0s remaining:    0.1s\n",
      "[Parallel(n_jobs=-1)]: Done   5 out of   5 | elapsed:    0.0s finished\n",
      "[Parallel(n_jobs=-1)]: Using backend LokyBackend with 8 concurrent workers.\n",
      "[Parallel(n_jobs=-1)]: Done   2 out of   5 | elapsed:    0.0s remaining:    0.1s\n",
      "[Parallel(n_jobs=-1)]: Done   5 out of   5 | elapsed:    0.0s finished\n",
      "[Parallel(n_jobs=-1)]: Using backend LokyBackend with 8 concurrent workers.\n",
      "[Parallel(n_jobs=-1)]: Done   2 out of   5 | elapsed:    0.0s remaining:    0.1s\n",
      "[Parallel(n_jobs=-1)]: Done   5 out of   5 | elapsed:    0.0s finished\n"
     ]
    },
    {
     "data": {
      "image/png": "[encoded data removed]",
      "text/plain": [
       "<Figure size 432x432 with 1 Axes>"
      ]
     },
     "metadata": {
      "needs_background": "light"
     },
     "output_type": "display_data"
    },
    {
     "name": "stdout",
     "output_type": "stream",
     "text": [
      "GradientBoosting的均方误差为： 0.387644813271632\n"
     ]
    }
   ],
   "source": [
    "# 绘制n_estimators的学习率曲线\n",
    "\n",
    "# 创建得分列表存储\n",
    "train_score_gbr_n = []\n",
    "test_score_gbr_n = []\n",
    "\n",
    "# 搭建参数空间的取值的寻找平台\n",
    "for i in range(1,100):\n",
    "    # 引入GradientBoostingRegressor算法\n",
    "    gbr = GBR(random_state=0)\n",
    "\n",
    "    # 设置cv参数，5折交叉验证\n",
    "    cv = KFold(n_splits=5, random_state=0, shuffle=True)\n",
    "\n",
    "    #  交叉验证的评判指标建立\n",
    "    validation_gbr = cross_validate(gbr,standard_X_train, y_train,\n",
    "                                    scoring='neg_root_mean_squared_error',\n",
    "                                    cv=cv,\n",
    "                                    n_jobs=-1,\n",
    "                                    verbose=True,\n",
    "                                    return_train_score=True\n",
    "                                    )\n",
    "    train_score_gbr_n.append(abs(validation_gbr['train_score']).mean())\n",
    "    test_score_gbr_n.append(abs(validation_gbr['test_score']).mean())\n",
    "    \n",
    "# 交叉验证的可视化\n",
    "plt.figure(figsize = (6,6))\n",
    "plt.plot(range(1,100),train_score_gbr_n,'b-',label='train')\n",
    "plt.plot(range(1,100),train_score_gbr_n,'r--',label='test')\n",
    "plt.legend(loc=1)\n",
    "plt.grid(True)\n",
    "plt.title('The MSE of GBDT')\n",
    "plt.axis('tight')\n",
    "plt.tight_layout()\n",
    "plt.show()\n",
    "print('GradientBoosting的均方误差为：', abs(validation_gbr['test_score']).mean())"
   ]
  },
  {
   "cell_type": "code",
   "execution_count": null,
   "id": "1ea1ec02",
   "metadata": {},
   "outputs": [],
   "source": [
    "# GradientBoosting的均方误差为： 0.387644813271632"
   ]
  },
  {
   "cell_type": "markdown",
   "id": "f9d6679a",
   "metadata": {},
   "source": [
    "## 2.开始优化"
   ]
  },
  {
   "cell_type": "code",
   "execution_count": 19,
   "id": "3e272953",
   "metadata": {},
   "outputs": [],
   "source": [
    "import hyperopt\n",
    "from hyperopt import hp, fmin, tpe, Trials, partial\n",
    "from hyperopt.early_stop import no_progress_loss"
   ]
  },
  {
   "cell_type": "code",
   "execution_count": 31,
   "id": "094b1529",
   "metadata": {},
   "outputs": [],
   "source": [
    "# 定义目标函数\n",
    "def hyperopt_objective_gbr(params):\n",
    "# {'ccp_alpha': 0.0, 'max_depth': 22, 'max_features': 'auto', 'min_samples_leaf': 4, 'n_estimators': 100}\n",
    "    rf = RFR(n_estimators=300,\n",
    "             max_depth=12,\n",
    "             max_features='auto',\n",
    "             min_impurity_decrease=0.25,\n",
    "             min_samples_leaf=2,\n",
    "             ccp_alpha=0,\n",
    "             criterion='poisson',\n",
    "             random_state=0,\n",
    "             verbose=False,\n",
    "             n_jobs=1\n",
    "             )\n",
    "    gbr = GBR(n_estimators=int(params['n_estimators']),\n",
    "              learning_rate=params['learning_rate'],\n",
    "              init=rf, alpha=0.8,\n",
    "              max_features=params['max_features'],\n",
    "              subsample=params['subsample'],\n",
    "              loss=params['loss'],\n",
    "              max_depth=int(params['max_depth']),\n",
    "              min_impurity_decrease=params['min_impurity_decrease'],\n",
    "              random_state=0,\n",
    "              verbose=False\n",
    "              )\n",
    "    cv = KFold(n_splits=5, shuffle=True, random_state=0)\n",
    "    validation_loss = cross_validate(gbr, standard_X_train, y_train,\n",
    "                                     scoring='neg_root_mean_squared_error',\n",
    "                                     verbose=False,\n",
    "                                     return_train_score=True,\n",
    "                                     cv=cv,\n",
    "                                     error_score='raise',\n",
    "                                     n_jobs=-1\n",
    "                                     )\n",
    "    return abs(validation_loss['test_score']).mean()"
   ]
  },
  {
   "cell_type": "code",
   "execution_count": 90,
   "id": "eea2c99a",
   "metadata": {},
   "outputs": [],
   "source": [
    "# 定义参数空间\n",
    "params_tpe_gbdt = {'n_estimators':hp.quniform('n_estimators', 75, 325, 5),\n",
    "          'learning_rate':hp.quniform('learning_rate', 0.02, 0.3, 0.002),\n",
    "          'max_features':hp.choice('max_features', ['auto','sqrt']),# 'log2',\n",
    "          'subsample':hp.uniform('subsample', 0.35, 0.85), # 推荐在[0.5, 0.8]之间，默认是1.0\n",
    "          'loss':hp.choice('loss', ['lad']), # 'huber','ls','quantile']), # 'squared_error','absolute_error'\n",
    "          'max_depth':hp.quniform('max_depth', 12, 58, 1),\n",
    "          'min_impurity_decrease':hp.quniform(\"min_impurity_decrease\", 1, 16, 0.25)\n",
    "          }\n",
    "# 参数空间缩小之后\n",
    "# (n_estimators,learning_rate,迭代次数) = (300,(0.06,0.2),1500) , (subsample) = (0.1, 0.6)，(min_impurity_decrease) = (2, 12), (max_depth) = (8, 50)\n",
    "# rf, max_depth = 6→16"
   ]
  },
  {
   "cell_type": "code",
   "execution_count": 91,
   "id": "17f254ca",
   "metadata": {},
   "outputs": [],
   "source": [
    "# 定义优化函数\n",
    "def params_hyperopt_gbdt(max_evals=100):\n",
    "    # 保存迭代过程\n",
    "    trials = Trials()\n",
    "    # 提前停止\n",
    "    early_stop_fn = no_progress_loss(4500) # 比较运行次数与提前停止阈值\n",
    "    # 定义代理模型\n",
    "    algo = partial(tpe.suggest, n_startup_jobs=50, n_EI_candidates=20)\n",
    "    best_params = fmin(hyperopt_objective_gbr, # 目标函数\n",
    "                       space=params_tpe_gbdt, # 参数空间\n",
    "                       algo=tpe.suggest, # 代理模型\n",
    "                       # 也可以选择随机网格搜索：algo=hyperopt.rand.suggest\n",
    "                       # algo=algo\n",
    "                       max_evals=max_evals,\n",
    "                       trials=trials,\n",
    "                       early_stop_fn=early_stop_fn,\n",
    "                       verbose=True # 显示运行进度，算的慢让电脑跑着就行\n",
    "                       )\n",
    "    # 打印最优参数，fmin会自动打印最佳分数\n",
    "    print('Best Params:',best_params)\n",
    "    return best_params, trials    "
   ]
  },
  {
   "cell_type": "code",
   "execution_count": 92,
   "id": "771630fb",
   "metadata": {
    "scrolled": false
   },
   "outputs": [
    {
     "name": "stdout",
     "output_type": "stream",
     "text": [
      "100%|█████████████████████████████████████████████| 500/500 [09:23<00:00,  1.13s/trial, best loss: 0.38473989543788517]\n",
      "Best Params: {'learning_rate': 0.046, 'loss': 0, 'max_depth': 15.0, 'max_features': 0, 'min_impurity_decrease': 3.25, 'n_estimators': 215.0, 'subsample': 0.38694132157952005}\n",
      "[0.4004494076652031, 0.4252357466187693, 0.41765111456488235, 0.4400519533914471, 0.3936785835365172, 0.4342306144801446]\n"
     ]
    }
   ],
   "source": [
    "# 运行优化\n",
    "best_params, trials = params_hyperopt_gbdt(500)\n",
    "print(trials.losses()[:6]) # 保留六位小数"
   ]
  },
  {
   "cell_type": "code",
   "execution_count": 93,
   "id": "53519654",
   "metadata": {},
   "outputs": [],
   "source": [
    "# (n_estimators,learning_rate,迭代次数) = (300,(0.05,0.3),5000) , (subsample) = (0.2, 0.9)，(min_impurity_decrease) = (2, 16), (max_depth) = (8, 50)\n",
    "# rf, max_depth = 6→16"
   ]
  },
  {
   "cell_type": "code",
   "execution_count": 94,
   "id": "ec126b31",
   "metadata": {},
   "outputs": [],
   "source": [
    "# 引入大量分类变量"
   ]
  },
  {
   "cell_type": "code",
   "execution_count": null,
   "id": "acca6e52",
   "metadata": {},
   "outputs": [],
   "source": [
    "# Best Params: {'learning_rate': 0.04, 'loss': 1, 'max_depth': 34.0, 'max_features': 2, \n",
    "#                 'min_impurity_decrease': 4.282700766969468, 'n_estimators': 199.0, 'subsample': 0.5}"
   ]
  },
  {
   "cell_type": "code",
   "execution_count": null,
   "id": "512d89c9",
   "metadata": {},
   "outputs": [],
   "source": [
    "# Best Params: {'learning_rate': 0.064, 'loss': 1, 'max_depth': 46.0, 'max_features': 1, \n",
    "#               'min_impurity_decrease': 4.7250000000000005, 'n_estimators': 247.0, 'subsample': 0.445}"
   ]
  },
  {
   "cell_type": "code",
   "execution_count": 84,
   "id": "a02ccaaa",
   "metadata": {},
   "outputs": [],
   "source": [
    "# Best Params: {'learning_rate': 0.038, 'loss': 1, 'max_depth': 37.0, 'max_features': 1, \n",
    "#               'min_impurity_decrease': 3.0500000000000003, 'n_estimators': 249.0, 'subsample': 0.4}"
   ]
  },
  {
   "cell_type": "code",
   "execution_count": null,
   "id": "accec92e",
   "metadata": {},
   "outputs": [],
   "source": [
    "# Best Params: {'learning_rate': 0.03, 'loss': 1, 'max_depth': 33.0, 'max_features': 0, \n",
    "#               'min_impurity_decrease': 3.0, 'n_estimators': 320.0, 'subsample': 0.30000000000000004}"
   ]
  },
  {
   "cell_type": "code",
   "execution_count": null,
   "id": "c7ae3c7a",
   "metadata": {},
   "outputs": [],
   "source": [
    "# Best Params: {'learning_rate': 0.074, 'loss': 0, 'max_depth': 43.0, 'max_features': 0, \n",
    "#                 'min_impurity_decrease': 3.3000000000000003, 'n_estimators': 183.0, 'subsample': 0.47500000000000003}"
   ]
  },
  {
   "cell_type": "code",
   "execution_count": null,
   "id": "26a3b079",
   "metadata": {},
   "outputs": [],
   "source": [
    "# {'learning_rate': 0.06, 'loss': 2, 'max_depth': 41.0, 'max_features': 2, \n",
    "# 'min_impurity_decrease': 4.0, 'n_estimators': 235.0, 'subsample': 0.55}"
   ]
  },
  {
   "cell_type": "code",
   "execution_count": null,
   "id": "28ce8a96",
   "metadata": {},
   "outputs": [],
   "source": [
    "# {'learning_rate': 0.07, 'loss': 0, 'max_depth': 57.0, 'max_features': 0, \n",
    "#  'min_impurity_decrease': 4.0, 'n_estimators': 245.0, 'subsample': 0.4}"
   ]
  },
  {
   "cell_type": "markdown",
   "id": "b69cb8e2",
   "metadata": {},
   "source": [
    "## 3.验证优化结果"
   ]
  },
  {
   "cell_type": "code",
   "execution_count": 95,
   "id": "417372db",
   "metadata": {},
   "outputs": [],
   "source": [
    "# Best Params字典存储\n",
    "dic_p={'learning_rate': 0.046, 'loss': 0, 'max_depth': 15.0, 'max_features': 0, 'min_impurity_decrease': 3.25, 'n_estimators': 215.0, 'subsample': 0.38694132157952005}"
   ]
  },
  {
   "cell_type": "code",
   "execution_count": 111,
   "id": "5d3310df",
   "metadata": {
    "scrolled": false
   },
   "outputs": [
    {
     "data": {
      "image/png": "[encoded data removed]",
      "text/plain": [
       "<Figure size 432x432 with 1 Axes>"
      ]
     },
     "metadata": {
      "needs_background": "light"
     },
     "output_type": "display_data"
    },
    {
     "name": "stdout",
     "output_type": "stream",
     "text": [
      "0.3849087153969407\n"
     ]
    }
   ],
   "source": [
    "# 验证优化结果\n",
    "rf = RFR(n_estimators=300,\n",
    "             max_depth=12,\n",
    "             max_features='auto',\n",
    "             min_impurity_decrease=0.25,\n",
    "             min_samples_leaf=2,\n",
    "             ccp_alpha=0,\n",
    "             criterion='poisson',\n",
    "             random_state=0,\n",
    "             verbose=False,\n",
    "             n_jobs=1\n",
    "             )\n",
    "# 将Best Params字典调用\n",
    "hyperopt_gbr1 = GBR(learning_rate=dic_p.get('learning_rate'),\n",
    "                   init=rf,\n",
    "                   loss='lad', # ['ls','lad','huber','quantile']\n",
    "                   max_depth=int(dic_p.get('max_depth')),\n",
    "                   max_features='auto', # ['sqrt','auto']\n",
    "                   min_impurity_decrease=dic_p.get('min_impurity_decrease'),\n",
    "                   n_estimators=int(dic_p.get('n_estimators')),\n",
    "                   subsample=dic_p.get('subsample'),\n",
    "                   random_state=0,\n",
    "                   verbose=False\n",
    "                   )\n",
    "cv = KFold(n_splits=5, shuffle=True, random_state=0)\n",
    "validation_loss = cross_validate(hyperopt_gbr, standard_X_train, y_train,\n",
    "                                 scoring='neg_root_mean_squared_error',\n",
    "                                 verbose=False,\n",
    "                                 return_train_score=True,\n",
    "                                 cv=cv,\n",
    "                                 error_score='raise',\n",
    "                                 n_jobs=-1\n",
    "                                 )\n",
    "\n",
    "# 交叉验证的可视化\n",
    "plt.figure(figsize = (6,6))\n",
    "plt.plot(range(1,6), validation_loss['train_score'], 'b-', label = 'train')\n",
    "plt.plot(range(1,6), validation_loss['test_score'], 'r--', label = 'test')\n",
    "plt.legend(loc='upper right')\n",
    "plt.title('基于Hyperopt实现TPE优化GBDT')\n",
    "plt.tight_layout()\n",
    "plt.show()\n",
    "print(abs(validation_loss['test_score']).mean())"
   ]
  },
  {
   "cell_type": "code",
   "execution_count": 112,
   "id": "c3e07ead",
   "metadata": {},
   "outputs": [
    {
     "data": {
      "text/plain": [
       "GradientBoostingRegressor(init=RandomForestRegressor(ccp_alpha=0,\n",
       "                                                     criterion='poisson',\n",
       "                                                     max_depth=12,\n",
       "                                                     min_impurity_decrease=0.25,\n",
       "                                                     min_samples_leaf=2,\n",
       "                                                     n_estimators=300, n_jobs=1,\n",
       "                                                     random_state=0,\n",
       "                                                     verbose=False),\n",
       "                          learning_rate=0.046, loss='lad', max_depth=15,\n",
       "                          max_features='auto', min_impurity_decrease=3.25,\n",
       "                          n_estimators=215, random_state=0,\n",
       "                          subsample=0.38694132157952005, verbose=False)"
      ]
     },
     "execution_count": 112,
     "metadata": {},
     "output_type": "execute_result"
    }
   ],
   "source": [
    "# 引入参数优化之后的GradientBoosting回归模型\n",
    "rf = RFR(n_estimators=300,\n",
    "             max_depth=12,\n",
    "             max_features='auto',\n",
    "             min_impurity_decrease=0.25,\n",
    "             min_samples_leaf=2,\n",
    "             ccp_alpha=0,\n",
    "             criterion='poisson',\n",
    "             random_state=0,\n",
    "             verbose=False,\n",
    "             n_jobs=1\n",
    "             )\n",
    "hyperopt_gbr = hyperopt_gbr1\n",
    "# 在训练集上训练模型\n",
    "hyperopt_gbr.fit(standard_X_train, y_train)"
   ]
  },
  {
   "cell_type": "code",
   "execution_count": 113,
   "id": "f457a55d",
   "metadata": {
    "scrolled": false
   },
   "outputs": [
    {
     "data": {
      "image/png": "[encoded data removed]",
      "text/plain": [
       "<Figure size 576x576 with 1 Axes>"
      ]
     },
     "metadata": {
      "needs_background": "light"
     },
     "output_type": "display_data"
    }
   ],
   "source": [
    "# 特征值重要性\n",
    "importances = hyperopt_gbr.feature_importances_\n",
    "weights = pd.Series(importances,\n",
    "                 index=X.columns.values)\n",
    "\n",
    "import matplotlib.pyplot as plt\n",
    "\n",
    "plt.figure(figsize=(8,8))\n",
    "plt.title('Feature Importances')\n",
    "weights.sort_values()[-10:].plot(kind = 'barh')#[-10:]表示这么多特征中只想看前十重要的特征\n",
    "plt.xlabel('Relative Importance')\n",
    "plt.show()"
   ]
  },
  {
   "cell_type": "code",
   "execution_count": 114,
   "id": "c2ebe62c",
   "metadata": {
    "scrolled": false
   },
   "outputs": [
    {
     "data": {
      "text/plain": [
       "ebenefit           0.103733\n",
       "exp_5到10           0.078116\n",
       "cclass_4           0.074173\n",
       "cclass_3           0.058119\n",
       "exp_3到5            0.051088\n",
       "size_10000人以上      0.040687\n",
       "edu_1              0.038965\n",
       "jclass_6           0.037136\n",
       "fpe_1              0.035477\n",
       "senior_1           0.034326\n",
       "internet_1         0.030618\n",
       "jclass_5           0.029134\n",
       "cclass_2           0.028862\n",
       "edu_3              0.027547\n",
       "jclass_10          0.025252\n",
       "minsurance_1       0.025250\n",
       "jclass_8           0.024855\n",
       "exp_1到3            0.024023\n",
       "size_1000-9999人    0.023646\n",
       "size_20-99人        0.023545\n",
       "edu_2              0.023415\n",
       "stack_1            0.022630\n",
       "binsurance_1       0.019991\n",
       "jclass_7           0.019529\n",
       "jclass_9           0.017406\n",
       "jclass_4           0.016819\n",
       "size_100-499人      0.015272\n",
       "paleave_1          0.013669\n",
       "jclass_3           0.013513\n",
       "size_500-999人      0.013061\n",
       "jclass_2           0.010143\n",
       "dtype: float64"
      ]
     },
     "execution_count": 114,
     "metadata": {},
     "output_type": "execute_result"
    }
   ],
   "source": [
    "weights.sort_values(ascending = False) ## 从大到小排序重要性"
   ]
  },
  {
   "cell_type": "code",
   "execution_count": 115,
   "id": "1d944cdf",
   "metadata": {
    "scrolled": true
   },
   "outputs": [
    {
     "name": "stdout",
     "output_type": "stream",
     "text": [
      "Accuracy 0.664\n",
      "Mean Squared Error: 0.15754719075460227\n",
      "R-squared: 0.6644088257202216\n"
     ]
    }
   ],
   "source": [
    "# 评估模型\n",
    "from sklearn.metrics import mean_squared_error, r2_score\n",
    "y_pred = hyperopt_gbr.predict(standard_X_test)\n",
    "test_accuracy = hyperopt_gbr.score(standard_X_test,y_test)\n",
    "mse = mean_squared_error(y_test, y_pred)\n",
    "r2 = r2_score(y_test, y_pred)\n",
    "\n",
    "print(\"Accuracy\", round(test_accuracy,3))\n",
    "print('Mean Squared Error:', mse)\n",
    "print('R-squared:', r2)"
   ]
  },
  {
   "cell_type": "code",
   "execution_count": 48,
   "id": "3d50a332",
   "metadata": {},
   "outputs": [],
   "source": [
    "# GradientBoosting总结：改进后的回归工资的模型，回归出来的结果为： "
   ]
  },
  {
   "cell_type": "code",
   "execution_count": 277,
   "id": "c0a5963c",
   "metadata": {},
   "outputs": [],
   "source": [
    "# 无portion\n",
    "# (n_estimators,learning_rate,迭代次数) = (200,(0.1,0.2),10000)\n",
    "# Best Params: {'learning_rate': 0.03, 'loss': 1, 'max_depth': 33.0, 'max_features': 0, \n",
    "#               'min_impurity_decrease': 3.0, 'n_estimators': 320.0, 'subsample': 0.30000000000000004}\n",
    "# Accuracy 0.664\n",
    "# Mean Squared Error: 0.15754719075460227\n",
    "# R-squared: 0.6644088257202216\n",
    "\n",
    "# 调参之前，相对于与原来默认值： \n",
    "# Accuracy 0.647\n",
    "# Mean Squared Error: 0.16566691196719358\n",
    "# R-squared: 0.6471130125514404\n",
    "# 发生了改进，改进效果一般，可能是未优化前模型拟合效果已足够好。"
   ]
  },
  {
   "cell_type": "code",
   "execution_count": null,
   "id": "d6b7146a",
   "metadata": {},
   "outputs": [],
   "source": [
    "# 未加入boom_data之前，模型回归结果\n",
    "# Best Params: {'learning_rate': 0.03, 'loss': 1, 'max_depth': 33.0, 'max_features': 0, \n",
    "#               'min_impurity_decrease': 3.0, 'n_estimators': 320.0, 'subsample': 0.30000000000000004}\n",
    "# Accuracy 0.706\n",
    "# Mean Squared Error: 0.13441954778220924\n",
    "# R-squared: 0.7058957014643695\n",
    "\n",
    "\n",
    "# 调参之后，相对于与原来默认值： \n",
    "# Accuracy 0.688\n",
    "# Mean Squared Error: 0.14256207508952198\n",
    "# R-squared: 0.6880801953007535"
   ]
  }
 ],
 "metadata": {
  "kernelspec": {
   "display_name": "Python 3 (ipykernel)",
   "language": "python",
   "name": "python3"
  },
  "language_info": {
   "codemirror_mode": {
    "name": "ipython",
    "version": 3
   },
   "file_extension": ".py",
   "mimetype": "text/x-python",
   "name": "python",
   "nbconvert_exporter": "python",
   "pygments_lexer": "ipython3",
   "version": "3.9.7"
  }
 },
 "nbformat": 4,
 "nbformat_minor": 5
}
